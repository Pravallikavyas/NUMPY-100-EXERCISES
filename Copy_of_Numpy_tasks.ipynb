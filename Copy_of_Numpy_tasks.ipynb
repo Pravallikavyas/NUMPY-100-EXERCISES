{
  "cells": [
    {
      "cell_type": "markdown",
      "metadata": {
        "id": "view-in-github",
        "colab_type": "text"
      },
      "source": [
        "<a href=\"https://colab.research.google.com/github/Pravallikavyas/n/blob/main/Copy_of_Numpy_tasks.ipynb\" target=\"_parent\"><img src=\"https://colab.research.google.com/assets/colab-badge.svg\" alt=\"Open In Colab\"/></a>"
      ]
    },
    {
      "cell_type": "markdown",
      "metadata": {
        "id": "yxbxp03zvCqd"
      },
      "source": [
        "# Numpy\n",
        "\n"
      ]
    },
    {
      "cell_type": "markdown",
      "metadata": {
        "id": "ivMWfXeFvCqi"
      },
      "source": [
        "#### 1. Import the numpy package under the name `np` (★☆☆) \n",
        "(**hint**: import … as …)"
      ]
    },
    {
      "cell_type": "code",
      "execution_count": null,
      "metadata": {
        "collapsed": true,
        "id": "vAZ-sbOavCqj"
      },
      "outputs": [],
      "source": [
        "import numpy as np"
      ]
    },
    {
      "cell_type": "markdown",
      "metadata": {
        "id": "aSzdAX9wvCqj"
      },
      "source": [
        "#### 2. Print the numpy version and the configuration (★☆☆) \n",
        "(**hint**: np.\\_\\_version\\_\\_, np.show\\_config)"
      ]
    },
    {
      "cell_type": "code",
      "execution_count": null,
      "metadata": {
        "id": "OWzlWBaHvCqk",
        "outputId": "dddaddbd-b714-492e-fa3a-ad719e0f1a40",
        "colab": {
          "base_uri": "https://localhost:8080/"
        }
      },
      "outputs": [
        {
          "output_type": "stream",
          "name": "stdout",
          "text": [
            "blas_mkl_info:\n",
            "  NOT AVAILABLE\n",
            "blis_info:\n",
            "  NOT AVAILABLE\n",
            "openblas_info:\n",
            "    libraries = ['openblas', 'openblas']\n",
            "    library_dirs = ['/usr/local/lib']\n",
            "    language = c\n",
            "    define_macros = [('HAVE_CBLAS', None)]\n",
            "    runtime_library_dirs = ['/usr/local/lib']\n",
            "blas_opt_info:\n",
            "    libraries = ['openblas', 'openblas']\n",
            "    library_dirs = ['/usr/local/lib']\n",
            "    language = c\n",
            "    define_macros = [('HAVE_CBLAS', None)]\n",
            "    runtime_library_dirs = ['/usr/local/lib']\n",
            "lapack_mkl_info:\n",
            "  NOT AVAILABLE\n",
            "openblas_lapack_info:\n",
            "    libraries = ['openblas', 'openblas']\n",
            "    library_dirs = ['/usr/local/lib']\n",
            "    language = c\n",
            "    define_macros = [('HAVE_CBLAS', None)]\n",
            "    runtime_library_dirs = ['/usr/local/lib']\n",
            "lapack_opt_info:\n",
            "    libraries = ['openblas', 'openblas']\n",
            "    library_dirs = ['/usr/local/lib']\n",
            "    language = c\n",
            "    define_macros = [('HAVE_CBLAS', None)]\n",
            "    runtime_library_dirs = ['/usr/local/lib']\n",
            "Supported SIMD extensions in this NumPy install:\n",
            "    baseline = SSE,SSE2,SSE3\n",
            "    found = SSSE3,SSE41,POPCNT,SSE42,AVX,F16C,FMA3,AVX2\n",
            "    not found = AVX512F,AVX512CD,AVX512_KNL,AVX512_KNM,AVX512_SKX,AVX512_CLX,AVX512_CNL,AVX512_ICL\n"
          ]
        }
      ],
      "source": [
        "import numpy as np\n",
        "np.__version__\n",
        "np.show_config( )"
      ]
    },
    {
      "cell_type": "markdown",
      "metadata": {
        "id": "w5-hRVruvCqk"
      },
      "source": [
        "#### 3. Create a null vector of size 10 (★☆☆) \n",
        "(**hint**: np.zeros)"
      ]
    },
    {
      "cell_type": "code",
      "execution_count": null,
      "metadata": {
        "id": "o1byF4RGvCql",
        "colab": {
          "base_uri": "https://localhost:8080/"
        },
        "outputId": "b2a82f97-1e9e-4a96-9f12-5539a3dc0f66"
      },
      "outputs": [
        {
          "output_type": "execute_result",
          "data": {
            "text/plain": [
              "array([0, 0, 0, 0, 0, 0, 0, 0, 0, 0])"
            ]
          },
          "metadata": {},
          "execution_count": 16
        }
      ],
      "source": [
        "np.zeros(10,dtype=int)"
      ]
    },
    {
      "cell_type": "markdown",
      "metadata": {
        "id": "vtudHmjBvCql"
      },
      "source": [
        "#### 4.  How to find the memory size of any array (★☆☆) \n",
        "(**hint**: size, itemsize)"
      ]
    },
    {
      "cell_type": "code",
      "execution_count": null,
      "metadata": {
        "id": "1Z2FIEGKvCqm",
        "colab": {
          "base_uri": "https://localhost:8080/"
        },
        "outputId": "d62f9604-1c2a-4208-ed43-5c04ceb4b38f"
      },
      "outputs": [
        {
          "output_type": "stream",
          "name": "stdout",
          "text": [
            "3\n",
            "8\n",
            "24\n"
          ]
        }
      ],
      "source": [
        "x=np.array([8,9,10])\n",
        "print(x.size)\n",
        "print(x.itemsize)\n",
        "print(x.size*x.itemsize)"
      ]
    },
    {
      "cell_type": "markdown",
      "metadata": {
        "id": "mCU3B9HovCqm"
      },
      "source": [
        "#### 5.  How to get the documentation of the numpy add function from the command line? (★☆☆) \n",
        "(**hint**: np.info)"
      ]
    },
    {
      "cell_type": "code",
      "execution_count": 1,
      "metadata": {
        "collapsed": true,
        "id": "PhTW3_CZvCqm",
        "colab": {
          "base_uri": "https://localhost:8080/",
          "height": 165
        },
        "outputId": "3df4f107-5d93-40bd-f401-a5d6b028fa94"
      },
      "outputs": [
        {
          "output_type": "error",
          "ename": "NameError",
          "evalue": "ignored",
          "traceback": [
            "\u001b[0;31m---------------------------------------------------------------------------\u001b[0m",
            "\u001b[0;31mNameError\u001b[0m                                 Traceback (most recent call last)",
            "\u001b[0;32m<ipython-input-1-739720838073>\u001b[0m in \u001b[0;36m<module>\u001b[0;34m\u001b[0m\n\u001b[0;32m----> 1\u001b[0;31m \u001b[0mnp\u001b[0m\u001b[0;34m.\u001b[0m\u001b[0minfo\u001b[0m\u001b[0;34m(\u001b[0m\u001b[0mnp\u001b[0m\u001b[0;34m.\u001b[0m\u001b[0madd\u001b[0m\u001b[0;34m)\u001b[0m\u001b[0;34m\u001b[0m\u001b[0;34m\u001b[0m\u001b[0m\n\u001b[0m",
            "\u001b[0;31mNameError\u001b[0m: name 'np' is not defined"
          ]
        }
      ],
      "source": [
        "np.info(np.add)"
      ]
    },
    {
      "cell_type": "markdown",
      "metadata": {
        "id": "cqkrg8YdvCqm"
      },
      "source": [
        "#### 6.  Create a null vector of size 10 but the fifth value which is 1 (★☆☆) \n",
        "(**hint**: array\\[4\\])"
      ]
    },
    {
      "cell_type": "code",
      "execution_count": null,
      "metadata": {
        "id": "d8yOWs0WvCqn",
        "colab": {
          "base_uri": "https://localhost:8080/"
        },
        "outputId": "e8b51057-f125-4c56-dc92-2351b39a4058"
      },
      "outputs": [
        {
          "output_type": "stream",
          "name": "stdout",
          "text": [
            "[0 0 0 0 1 0 0 0 0 0]\n"
          ]
        }
      ],
      "source": [
        "x=np.zeros(10,dtype=int)\n",
        "x[4]=1\n",
        "print(x)"
      ]
    },
    {
      "cell_type": "markdown",
      "metadata": {
        "id": "NGarQBvnvCqn"
      },
      "source": [
        "#### 7.  Create a vector with values ranging from 10 to 49 (★☆☆) \n",
        "(**hint**: np.arange)"
      ]
    },
    {
      "cell_type": "code",
      "execution_count": null,
      "metadata": {
        "id": "Qkt2-L-qvCqn"
      },
      "outputs": [],
      "source": [
        "v=np.arange(10,49,5)"
      ]
    },
    {
      "cell_type": "markdown",
      "metadata": {
        "id": "pnBPT6IRvCqo"
      },
      "source": [
        "#### 8.  Reverse a vector (first element becomes last) (★☆☆) \n",
        "(**hint**: array\\[::-1\\])"
      ]
    },
    {
      "cell_type": "code",
      "execution_count": null,
      "metadata": {
        "id": "BiFG_S56vCqo",
        "colab": {
          "base_uri": "https://localhost:8080/"
        },
        "outputId": "066b61d8-ff21-4770-b77b-35448a67db74"
      },
      "outputs": [
        {
          "output_type": "execute_result",
          "data": {
            "text/plain": [
              "array([46, 43, 40, 37, 34, 31, 28, 25, 22, 19, 16, 13, 10])"
            ]
          },
          "metadata": {},
          "execution_count": 6
        }
      ],
      "source": [
        "v=np.arange(10,49,3)\n",
        "v[::-1]"
      ]
    },
    {
      "cell_type": "markdown",
      "metadata": {
        "id": "zmY_yY69vCqo"
      },
      "source": [
        "#### 9.  Create a 3x3 matrix with values ranging from 0 to 8 (★☆☆) \n",
        "(**hint**: reshape)"
      ]
    },
    {
      "cell_type": "code",
      "execution_count": null,
      "metadata": {
        "id": "VQRGjWZ5vCqp",
        "colab": {
          "base_uri": "https://localhost:8080/"
        },
        "outputId": "b3d8ef69-12b2-4229-dee4-3283cfe85634"
      },
      "outputs": [
        {
          "output_type": "execute_result",
          "data": {
            "text/plain": [
              "array([[0, 1, 2],\n",
              "       [3, 4, 5],\n",
              "       [6, 7, 8]])"
            ]
          },
          "metadata": {},
          "execution_count": 8
        }
      ],
      "source": [
        "a=np.arange(0,9).reshape(3,3)\n",
        "a"
      ]
    },
    {
      "cell_type": "markdown",
      "metadata": {
        "id": "8CZjZWW-vCqp"
      },
      "source": [
        "#### 10. Find indices of non-zero elements from \\[1,2,0,0,4,0\\] (★☆☆) \n",
        "(**hint**: np.nonzero)"
      ]
    },
    {
      "cell_type": "code",
      "execution_count": null,
      "metadata": {
        "id": "QSzuW9vXvCqp",
        "colab": {
          "base_uri": "https://localhost:8080/"
        },
        "outputId": "8916dc15-fe28-4cec-ae6e-58a8ae3eafa3"
      },
      "outputs": [
        {
          "output_type": "execute_result",
          "data": {
            "text/plain": [
              "(array([0, 1, 4]),)"
            ]
          },
          "metadata": {},
          "execution_count": 9
        }
      ],
      "source": [
        "a=[1,2,0,0,4,0]\n",
        "b=np.array(a)\n",
        "c=np.nonzero(b)\n",
        "c\n"
      ]
    },
    {
      "cell_type": "markdown",
      "metadata": {
        "id": "sIMcsHb-vCqp"
      },
      "source": [
        "#### 11. Create a 3x3 identity matrix (★☆☆) \n",
        "(**hint**: np.eye)"
      ]
    },
    {
      "cell_type": "code",
      "execution_count": null,
      "metadata": {
        "id": "QnNRS4XZvCqp",
        "colab": {
          "base_uri": "https://localhost:8080/"
        },
        "outputId": "3bc88169-8243-4c5a-d95d-bd07293eab69"
      },
      "outputs": [
        {
          "output_type": "execute_result",
          "data": {
            "text/plain": [
              "array([[1, 0, 0],\n",
              "       [0, 1, 0],\n",
              "       [0, 0, 1]])"
            ]
          },
          "metadata": {},
          "execution_count": 10
        }
      ],
      "source": [
        "np.eye(3,dtype=int)"
      ]
    },
    {
      "cell_type": "markdown",
      "metadata": {
        "id": "Vg1oG2XAvCqq"
      },
      "source": [
        "#### 12. Create a 3x3x3 array with random values (★☆☆) \n",
        "(**hint**: np.random.random)"
      ]
    },
    {
      "cell_type": "code",
      "execution_count": null,
      "metadata": {
        "collapsed": true,
        "id": "InFyFiQTvCqq",
        "colab": {
          "base_uri": "https://localhost:8080/"
        },
        "outputId": "720feb8e-8f68-4299-dec5-56352a23ba98"
      },
      "outputs": [
        {
          "output_type": "execute_result",
          "data": {
            "text/plain": [
              "array([[[0.87105741, 0.35711799, 0.19801268],\n",
              "        [0.10371415, 0.71182703, 0.91755694],\n",
              "        [0.91092514, 0.78654761, 0.08971425]],\n",
              "\n",
              "       [[0.19435055, 0.51850404, 0.40567899],\n",
              "        [0.5926255 , 0.77553791, 0.85915338],\n",
              "        [0.53411966, 0.12509692, 0.96956173]],\n",
              "\n",
              "       [[0.61100082, 0.20072062, 0.31937581],\n",
              "        [0.53587384, 0.90807013, 0.1120237 ],\n",
              "        [0.2452779 , 0.81221623, 0.98307058]]])"
            ]
          },
          "metadata": {},
          "execution_count": 11
        }
      ],
      "source": [
        "x=np.random.random((3,3,3))\n",
        "x"
      ]
    },
    {
      "cell_type": "markdown",
      "metadata": {
        "id": "sE6146AjvCqq"
      },
      "source": [
        "#### 13. Create a 10x10 array with random values and find the minimum and maximum values (★☆☆) \n",
        "(**hint**: min, max)"
      ]
    },
    {
      "cell_type": "code",
      "execution_count": null,
      "metadata": {
        "id": "FlBS42nSvCqq",
        "colab": {
          "base_uri": "https://localhost:8080/"
        },
        "outputId": "01c4ca04-4d8e-4654-f030-478d0c0dba78"
      },
      "outputs": [
        {
          "output_type": "stream",
          "name": "stdout",
          "text": [
            "[[0.31352547 0.76920507 0.01770841 0.36571051 0.66439566 0.31102938\n",
            "  0.2959665  0.16968966 0.44001575 0.80886542]\n",
            " [0.25968825 0.64688295 0.67546506 0.41871657 0.90402608 0.55544392\n",
            "  0.80331655 0.89910753 0.3544658  0.59700104]\n",
            " [0.72635117 0.95460974 0.59287949 0.55613952 0.38263844 0.92012209\n",
            "  0.79306819 0.12223525 0.67027469 0.3854936 ]\n",
            " [0.80471596 0.4696729  0.6713903  0.03595078 0.31660892 0.97576491\n",
            "  0.86993636 0.51102443 0.82363185 0.86201259]\n",
            " [0.75478618 0.36723504 0.86832446 0.83835488 0.89666132 0.02718505\n",
            "  0.89846935 0.97063369 0.76335539 0.83499933]\n",
            " [0.60793392 0.55468205 0.51664362 0.54146649 0.11170108 0.02463407\n",
            "  0.34492525 0.56387909 0.73403043 0.64844044]\n",
            " [0.65122231 0.24262204 0.60064037 0.25078109 0.60300489 0.05649675\n",
            "  0.38077697 0.67200454 0.85270186 0.40168542]\n",
            " [0.08241068 0.3192342  0.28124519 0.07816814 0.98849471 0.93765469\n",
            "  0.53280312 0.96316699 0.72340967 0.97052409]\n",
            " [0.21664057 0.45569696 0.10823859 0.32651247 0.51904766 0.72214527\n",
            "  0.52903086 0.50121685 0.5622082  0.44884865]\n",
            " [0.28774541 0.75313839 0.74332275 0.23138329 0.7894076  0.51186215\n",
            "  0.05720141 0.71818053 0.03994285 0.42751209]]\n",
            "0.017708411990932538\n",
            "0.9884947139212469\n"
          ]
        }
      ],
      "source": [
        "x=np.random.random((10,10))\n",
        "print(x)\n",
        "y=x.min( )\n",
        "z=x.max( )\n",
        "print(y)\n",
        "print(z)\n"
      ]
    },
    {
      "cell_type": "markdown",
      "metadata": {
        "id": "pYpmD4RpvCqq"
      },
      "source": [
        "#### 14. Create a random vector of size 30 and find the mean value (★☆☆) \n",
        "(**hint**: mean)"
      ]
    },
    {
      "cell_type": "code",
      "execution_count": null,
      "metadata": {
        "id": "1ENe9fy8vCqq",
        "colab": {
          "base_uri": "https://localhost:8080/"
        },
        "outputId": "ffb20041-4285-4197-d737-316a9acab7a0"
      },
      "outputs": [
        {
          "output_type": "stream",
          "name": "stdout",
          "text": [
            "[454 290 347 222  70 181  63 370 459 379 456 168 200 413 185 262 269 432\n",
            " 283 275 228  33 457 492 491   2 246 106 457 180]\n",
            "282.3333333333333\n"
          ]
        }
      ],
      "source": [
        "import numpy as np\n",
        "x=np.random.randint(1,500,size=(30))\n",
        "print(x)\n",
        "a=np.mean(x)\n",
        "print(a)"
      ]
    },
    {
      "cell_type": "markdown",
      "metadata": {
        "id": "rmbv0a6LvCqr"
      },
      "source": [
        "#### 15. Create a 2d array with 1 on the border and 0 inside (★☆☆) \n",
        "(**hint**: array\\[1:-1, 1:-1\\])"
      ]
    },
    {
      "cell_type": "code",
      "execution_count": null,
      "metadata": {
        "id": "Av0I0BhmvCqr",
        "colab": {
          "base_uri": "https://localhost:8080/"
        },
        "outputId": "5f94ef9b-392b-4c34-d41f-2879f88e4b39"
      },
      "outputs": [
        {
          "output_type": "stream",
          "name": "stdout",
          "text": [
            "[[1 1 1 1 1]\n",
            " [1 0 0 0 1]\n",
            " [1 0 0 0 1]\n",
            " [1 0 0 0 1]\n",
            " [1 1 1 1 1]]\n"
          ]
        }
      ],
      "source": [
        "x=np.ones((5,5),dtype=int)\n",
        "x[1:-1,1:-1]=0\n",
        "print(x)"
      ]
    },
    {
      "cell_type": "markdown",
      "metadata": {
        "id": "c9aoByFyvCqr"
      },
      "source": [
        "#### 16. How to add a border (filled with 0's) around an existing array? (★☆☆) \n",
        "(**hint**: np.pad)"
      ]
    },
    {
      "cell_type": "code",
      "execution_count": null,
      "metadata": {
        "id": "ij8spoZ2vCqr",
        "colab": {
          "base_uri": "https://localhost:8080/"
        },
        "outputId": "c16afb54-c526-4253-a51e-de70187a0dae"
      },
      "outputs": [
        {
          "output_type": "stream",
          "name": "stdout",
          "text": [
            "[[0 0 0 0 0 0 0]\n",
            " [0 1 1 1 1 1 0]\n",
            " [0 1 0 0 0 1 0]\n",
            " [0 1 0 0 0 1 0]\n",
            " [0 1 0 0 0 1 0]\n",
            " [0 1 1 1 1 1 0]\n",
            " [0 0 0 0 0 0 0]]\n"
          ]
        }
      ],
      "source": [
        "b=np.pad(x,pad_width=1,mode='constant',constant_values=0)\n",
        "print(b)"
      ]
    },
    {
      "cell_type": "markdown",
      "metadata": {
        "id": "130hkHbcvCqr"
      },
      "source": [
        "#### 17. What is the result of the following expression? (★☆☆) \n",
        "(**hint**: NaN = not a number, inf = infinity)"
      ]
    },
    {
      "cell_type": "markdown",
      "metadata": {
        "id": "8f2ap31NvCqr"
      },
      "source": [
        "```python\n",
        "0 * np.nan\n",
        "np.nan == np.nan\n",
        "np.inf > np.nan\n",
        "np.nan - np.nan\n",
        "0.3 == 3 * 0.1\n",
        "```"
      ]
    },
    {
      "cell_type": "code",
      "execution_count": null,
      "metadata": {
        "id": "AKKH-6rIvCqs",
        "colab": {
          "base_uri": "https://localhost:8080/"
        },
        "outputId": "87a6d6f5-ee4a-45a9-ad6f-5c78b8fcc111"
      },
      "outputs": [
        {
          "output_type": "execute_result",
          "data": {
            "text/plain": [
              "False"
            ]
          },
          "metadata": {},
          "execution_count": 30
        }
      ],
      "source": [
        "0 * np.nan\n",
        "np.nan == np.nan\n",
        "np.inf > np.nan\n",
        "np.nan - np.nan\n",
        "0.3 == 3 * 0.1"
      ]
    },
    {
      "cell_type": "markdown",
      "metadata": {
        "id": "6h_YRfVAvCqs"
      },
      "source": [
        "#### 18. Create a 5x5 matrix with values 1,2,3,4 just below the diagonal (★☆☆) \n",
        "(**hint**: np.diag)"
      ]
    },
    {
      "cell_type": "code",
      "execution_count": null,
      "metadata": {
        "id": "bEopGKrOvCqs",
        "colab": {
          "base_uri": "https://localhost:8080/"
        },
        "outputId": "0e5d3f03-348b-4cb6-8591-9f51441198ad"
      },
      "outputs": [
        {
          "output_type": "stream",
          "name": "stdout",
          "text": [
            "[[0 0 0 0 0]\n",
            " [1 0 0 0 0]\n",
            " [0 2 0 0 0]\n",
            " [0 0 3 0 0]\n",
            " [0 0 0 4 0]]\n"
          ]
        }
      ],
      "source": [
        "X= np.diag(1+np.arange(4),k=-1)\n",
        "print(X)"
      ]
    },
    {
      "cell_type": "markdown",
      "metadata": {
        "id": "Uq3RaO6PvCqs"
      },
      "source": [
        "#### 19. Create a 8x8 matrix and fill it with a checkerboard pattern (★☆☆) \n",
        "(**hint**: array\\[::2\\])"
      ]
    },
    {
      "cell_type": "code",
      "execution_count": null,
      "metadata": {
        "id": "ijhHYFzYvCqs",
        "colab": {
          "base_uri": "https://localhost:8080/"
        },
        "outputId": "3d92d9bf-dba7-456a-b991-47b42fd70a83"
      },
      "outputs": [
        {
          "output_type": "execute_result",
          "data": {
            "text/plain": [
              "array([[0, 1, 0, 1, 0, 1, 0, 1],\n",
              "       [1, 0, 1, 0, 1, 0, 1, 0],\n",
              "       [0, 1, 0, 1, 0, 1, 0, 1],\n",
              "       [1, 0, 1, 0, 1, 0, 1, 0],\n",
              "       [0, 1, 0, 1, 0, 1, 0, 1],\n",
              "       [1, 0, 1, 0, 1, 0, 1, 0],\n",
              "       [0, 1, 0, 1, 0, 1, 0, 1],\n",
              "       [1, 0, 1, 0, 1, 0, 1, 0]])"
            ]
          },
          "metadata": {},
          "execution_count": 32
        }
      ],
      "source": [
        "c=np.zeros((8,8),dtype=int)\n",
        "c[1::2,::2]=1\n",
        "c[::2,1::2]=1\n",
        "c"
      ]
    },
    {
      "cell_type": "markdown",
      "metadata": {
        "id": "gwQm7YNtvCqs"
      },
      "source": [
        "#### 20. Consider a (6,7,8) shape array, what is the index (x,y,z) of the 100th element? \n",
        "(**hint**: np.unravel_index)"
      ]
    },
    {
      "cell_type": "code",
      "execution_count": null,
      "metadata": {
        "id": "ca3ZVuo4vCqt",
        "colab": {
          "base_uri": "https://localhost:8080/"
        },
        "outputId": "0c5abffd-abdb-442a-a966-ec8bc4511aec"
      },
      "outputs": [
        {
          "output_type": "stream",
          "name": "stdout",
          "text": [
            "(1, 5, 4)\n"
          ]
        }
      ],
      "source": [
        "\n",
        "print(np.unravel_index(100,(6,7,8)))"
      ]
    },
    {
      "cell_type": "markdown",
      "metadata": {
        "id": "x-hN3fJBvCqt"
      },
      "source": [
        "#### 21. Create a checkerboard 8x8 matrix using the tile function (★☆☆) \n",
        "(**hint**: np.tile)"
      ]
    },
    {
      "cell_type": "code",
      "execution_count": null,
      "metadata": {
        "id": "s0OvwEbjvCqt",
        "colab": {
          "base_uri": "https://localhost:8080/"
        },
        "outputId": "11875edb-32a8-49cf-bbd7-8ee466229056"
      },
      "outputs": [
        {
          "output_type": "stream",
          "name": "stdout",
          "text": [
            "[[0 1 0 1 0 1 0 1]\n",
            " [1 0 1 0 1 0 1 0]\n",
            " [0 1 0 1 0 1 0 1]\n",
            " [1 0 1 0 1 0 1 0]\n",
            " [0 1 0 1 0 1 0 1]\n",
            " [1 0 1 0 1 0 1 0]\n",
            " [0 1 0 1 0 1 0 1]\n",
            " [1 0 1 0 1 0 1 0]]\n"
          ]
        }
      ],
      "source": [
        "\n",
        "Z = np.tile( np.array([[0,1],[1,0]]), (4,4))\n",
        "print(Z)"
      ]
    },
    {
      "cell_type": "markdown",
      "metadata": {
        "id": "O23OHMlzvCqt"
      },
      "source": [
        "#### 22. Normalize a 5x5 random matrix (★☆☆) \n",
        "(**hint**: (x - min) / (max - min))"
      ]
    },
    {
      "cell_type": "code",
      "execution_count": null,
      "metadata": {
        "id": "-YQvswmVvCqt",
        "colab": {
          "base_uri": "https://localhost:8080/"
        },
        "outputId": "27b5546e-5f17-4698-aa2d-1e51101058b8"
      },
      "outputs": [
        {
          "output_type": "stream",
          "name": "stdout",
          "text": [
            "[[4.94689102e-01 5.16449508e-01 1.14436561e-01 6.74689388e-01\n",
            "  9.75347156e-01]\n",
            " [4.21238163e-01 4.01961733e-01 5.81074693e-01 8.37765816e-04\n",
            "  5.51315105e-02]\n",
            " [3.62166719e-01 8.87342707e-02 6.98245814e-01 4.71936242e-01\n",
            "  1.17506020e-01]\n",
            " [9.45369996e-01 6.91589137e-01 5.80792307e-01 4.43232387e-01\n",
            "  2.88173915e-01]\n",
            " [3.87244411e-01 8.18812357e-01 8.38745703e-01 5.07751300e-01\n",
            "  9.46557053e-01]]\n",
            "[[0.50676919 0.52909879 0.11657024 0.69147781 1.        ]\n",
            " [0.43139697 0.41161632 0.5954144  0.         0.05571393]\n",
            " [0.37078037 0.09019565 0.71565041 0.48342118 0.11971999]\n",
            " [0.96923872 0.70881962 0.59512463 0.4539665  0.29485211]\n",
            " [0.39651403 0.83937066 0.85982541 0.52017306 0.97045682]]\n"
          ]
        }
      ],
      "source": [
        "import numpy as np\n",
        "a=np.random.rand(5,5)\n",
        "print(a)\n",
        "m1=np.min(a)\n",
        "m2=np.max(a)\n",
        "b=(a-m1)/(m2-m1)\n",
        "print(b)"
      ]
    },
    {
      "cell_type": "markdown",
      "metadata": {
        "id": "f_-2a9IvvCqu"
      },
      "source": [
        "#### 23. Create a custom dtype that describes a color as four unsigned bytes (RGBA) (★☆☆) \n",
        "(**hint**: np.dtype)"
      ]
    },
    {
      "cell_type": "code",
      "execution_count": null,
      "metadata": {
        "collapsed": true,
        "id": "2DIuFY3jvCqu",
        "colab": {
          "base_uri": "https://localhost:8080/"
        },
        "outputId": "0155ad63-8b85-468a-babb-8e9dd43c1dc3"
      },
      "outputs": [
        {
          "output_type": "stream",
          "name": "stdout",
          "text": [
            "[('r', 'u1'), ('g', 'u1'), ('b', 'u1'), ('a', 'u1')]\n"
          ]
        },
        {
          "output_type": "stream",
          "name": "stderr",
          "text": [
            "/usr/local/lib/python3.7/dist-packages/ipykernel_launcher.py:4: FutureWarning: Passing (type, 1) or '1type' as a synonym of type is deprecated; in a future version of numpy, it will be understood as (type, (1,)) / '(1,)type'.\n",
            "  after removing the cwd from sys.path.\n"
          ]
        }
      ],
      "source": [
        "color = np.dtype([(\"r\", np.ubyte, 1),\n",
        "                (\"g\", np.ubyte, 1),\n",
        "                (\"b\", np.ubyte, 1),\n",
        "                 (\"a\", np.ubyte, 1)])\n",
        "print(color)"
      ]
    },
    {
      "cell_type": "markdown",
      "metadata": {
        "id": "wl6YfsO5vCqu"
      },
      "source": [
        "#### 24. Multiply a 5x3 matrix by a 3x2 matrix (real matrix product) (★☆☆) \n",
        "(**hint**: np.dot | @)"
      ]
    },
    {
      "cell_type": "code",
      "execution_count": null,
      "metadata": {
        "id": "I542mHK-vCqu",
        "colab": {
          "base_uri": "https://localhost:8080/"
        },
        "outputId": "0a0a8bc1-3157-405a-a0b9-1025144926cf"
      },
      "outputs": [
        {
          "output_type": "stream",
          "name": "stdout",
          "text": [
            "[[0.28739424 0.85312895 0.33538265]\n",
            " [0.47341338 0.11661457 0.78655121]\n",
            " [0.80424979 0.59849153 0.1757238 ]\n",
            " [0.89433065 0.33829896 0.18739671]\n",
            " [0.58005982 0.50813071 0.22852112]]\n",
            "[[0.17295664 0.92616333]\n",
            " [0.82023007 0.13874917]\n",
            " [0.03051244 0.37223273]]\n",
            "[[0.7597021  0.50938533]\n",
            " [0.20153036 0.74741839]\n",
            " [0.63536285 0.89331701]\n",
            " [0.43788133 0.94499013]\n",
            " [0.52408202 0.69279588]]\n"
          ]
        }
      ],
      "source": [
        "import numpy as np\n",
        "a=np.random.random((5,3))\n",
        "print(a)\n",
        "b=np.random.random((3,2))\n",
        "print(b)\n",
        "c=np.dot(a,b)\n",
        "print(c)"
      ]
    },
    {
      "cell_type": "markdown",
      "metadata": {
        "id": "X5GDlTVJvCqu"
      },
      "source": [
        "#### 25. Given a 1D array, negate all elements which are between 3 and 8, in place. (★☆☆) \n",
        "(**hint**: >, <=)"
      ]
    },
    {
      "cell_type": "code",
      "execution_count": null,
      "metadata": {
        "id": "YFp3g-vDvCqu",
        "colab": {
          "base_uri": "https://localhost:8080/"
        },
        "outputId": "f1ad2713-0f74-43b9-eff3-4491d830631a"
      },
      "outputs": [
        {
          "output_type": "stream",
          "name": "stdout",
          "text": [
            "[25 12 10 16 11 17  9  1  5  7 16 12 13 26 16 22 11 20 21 18]\n",
            "[25 12 10 16 11 17  9  1 -5 -7 16 12 13 26 16 22 11 20 21 18]\n"
          ]
        }
      ],
      "source": [
        "import numpy as np\n",
        "a=np.random.randint(1,30,size=20)\n",
        "print(a)\n",
        "for i in range(20):\n",
        "  if(3<a[i])&(a[i]<8):\n",
        "    a[i]*=-1\n",
        "print(a)    \n",
        "\n"
      ]
    },
    {
      "cell_type": "markdown",
      "metadata": {
        "id": "KVb3BFBdvCqv"
      },
      "source": [
        "#### 26. What is the output of the following script? (★☆☆) \n",
        "(**hint**: np.sum)"
      ]
    },
    {
      "cell_type": "markdown",
      "metadata": {
        "id": "R0N89swHvCqv"
      },
      "source": [
        "```python\n",
        "# Author: Jake VanderPlas\n",
        "\n",
        "print(sum(range(5),-1))\n",
        "from numpy import *\n",
        "print(sum(range(5),-1))\n",
        "```"
      ]
    },
    {
      "cell_type": "code",
      "execution_count": null,
      "metadata": {
        "id": "t0sWrbNvvCqv",
        "colab": {
          "base_uri": "https://localhost:8080/"
        },
        "outputId": "62681f66-2f3f-4e73-8be9-bda51f58b73f"
      },
      "outputs": [
        {
          "output_type": "stream",
          "name": "stdout",
          "text": [
            "9\n",
            "10\n"
          ]
        }
      ],
      "source": [
        "print(sum(range(5),-1))\n",
        "from numpy import *\n",
        "print(sum(range(5),-1))"
      ]
    },
    {
      "cell_type": "markdown",
      "metadata": {
        "id": "pldHot6XvCqv"
      },
      "source": [
        "#### 27. Consider an integer vector Z, which of these expressions are legal? (★☆☆)"
      ]
    },
    {
      "cell_type": "markdown",
      "metadata": {
        "id": "aX2OTBicvCqv"
      },
      "source": [
        "```python\n",
        "Z**Z\n",
        "2 << Z >> 2\n",
        "Z <- Z\n",
        "1j*Z\n",
        "Z/1/1\n",
        "Z<Z>Z\n",
        "```"
      ]
    },
    {
      "cell_type": "code",
      "execution_count": null,
      "metadata": {
        "id": "lv7BXVJWvCqw",
        "colab": {
          "base_uri": "https://localhost:8080/"
        },
        "outputId": "22f77948-010d-48ea-b5ca-5f135032830e"
      },
      "outputs": [
        {
          "output_type": "execute_result",
          "data": {
            "text/plain": [
              "False"
            ]
          },
          "metadata": {},
          "execution_count": 40
        }
      ],
      "source": [
        "Z**Z\n",
        "2 << Z >> 2\n",
        "Z <- Z\n",
        "1j*Z\n",
        "Z/1/1\n",
        "z<z>z"
      ]
    },
    {
      "cell_type": "markdown",
      "metadata": {
        "id": "crPP4407vCqw"
      },
      "source": [
        "#### 28. What are the result of the following expressions?"
      ]
    },
    {
      "cell_type": "markdown",
      "metadata": {
        "id": "AuDqt1qPvCqw"
      },
      "source": [
        "```python\n",
        "np.array(0) / np.array(0)\n",
        "np.array(0) // np.array(0)\n",
        "np.array([np.nan]).astype(int).astype(float)\n",
        "```"
      ]
    },
    {
      "cell_type": "code",
      "execution_count": null,
      "metadata": {
        "id": "VRLH8evrvCqw",
        "colab": {
          "base_uri": "https://localhost:8080/"
        },
        "outputId": "21c950cb-71fa-4175-d196-b34d891b1049"
      },
      "outputs": [
        {
          "output_type": "stream",
          "name": "stdout",
          "text": [
            "nan\n",
            "0\n",
            "[-9.22337204e+18]\n"
          ]
        }
      ],
      "source": [
        "import numpy as np\n",
        "a=np.array(0) / np.array(0)\n",
        "b=np.array(0) // np.array(0)\n",
        "c=np.array([np.nan]).astype(int).astype(float)\n",
        "print(a)\n",
        "print(b)\n",
        "print(c)"
      ]
    },
    {
      "cell_type": "markdown",
      "metadata": {
        "id": "Z67lDCRJvCqw"
      },
      "source": [
        "#### 29. How to round away from zero a float array ? (★☆☆) \n",
        "(**hint**: np.uniform, np.copysign, np.ceil, np.abs)"
      ]
    },
    {
      "cell_type": "code",
      "execution_count": null,
      "metadata": {
        "id": "_ZAokVlYvCqw",
        "colab": {
          "base_uri": "https://localhost:8080/"
        },
        "outputId": "07fe54bd-236c-4dcd-a71a-7fc86404b2e0"
      },
      "outputs": [
        {
          "output_type": "stream",
          "name": "stdout",
          "text": [
            "[ 10.  -5.  -4.  -3.  -4.  10. -10.  -2.   2.   2.]\n"
          ]
        }
      ],
      "source": [
        "Z = np.random.uniform(-10,+10,10)\n",
        "print(np.copysign(np.ceil(np.abs(Z)), Z))\n"
      ]
    },
    {
      "cell_type": "markdown",
      "metadata": {
        "id": "jPV2zH1TvCqw"
      },
      "source": [
        "#### 30. How to find common values between two arrays? (★☆☆) \n",
        "(**hint**: np.intersect1d)"
      ]
    },
    {
      "cell_type": "code",
      "execution_count": null,
      "metadata": {
        "id": "kf-aijB-vCqw",
        "colab": {
          "base_uri": "https://localhost:8080/"
        },
        "outputId": "ca35c0ad-f6dd-4797-bb77-a7efee3f7063"
      },
      "outputs": [
        {
          "output_type": "stream",
          "name": "stdout",
          "text": [
            "[3 4]\n"
          ]
        }
      ],
      "source": [
        "a1=np.array([1,2,3,4,5])\n",
        "a2=np.array([3,4,6,7])\n",
        "a3=np.intersect1d(a1,a2)\n",
        "print(a3)"
      ]
    },
    {
      "cell_type": "markdown",
      "metadata": {
        "id": "tKhERWJdvCqx"
      },
      "source": [
        "#### 31. How to ignore all numpy warnings (not recommended)? (★☆☆) \n",
        "(**hint**: np.seterr, np.errstate)"
      ]
    },
    {
      "cell_type": "code",
      "execution_count": null,
      "metadata": {
        "id": "mLLY3bD-vCqx"
      },
      "outputs": [],
      "source": [
        "defaults = np.seterr(all=\"ignore\")\n",
        "Z = np.ones(1) / 0\n",
        "_ = np.seterr(**defaults)\n",
        "with np.errstate(all=\"ignore\"):\n",
        "    np.arange(3) / 0"
      ]
    },
    {
      "cell_type": "markdown",
      "metadata": {
        "id": "aPMOAAFovCqx"
      },
      "source": [
        "#### 32. Is the following expressions true? (★☆☆) \n",
        "(**hint**: imaginary number)"
      ]
    },
    {
      "cell_type": "markdown",
      "metadata": {
        "id": "KOICU-V-vCqx"
      },
      "source": [
        "```python\n",
        "np.sqrt(-1) == np.emath.sqrt(-1)\n",
        "```"
      ]
    },
    {
      "cell_type": "code",
      "execution_count": null,
      "metadata": {
        "id": "FzutiLsSvCqx",
        "colab": {
          "base_uri": "https://localhost:8080/"
        },
        "outputId": "cba85ba7-5975-4995-a84e-62951d9fd100"
      },
      "outputs": [
        {
          "output_type": "execute_result",
          "data": {
            "text/plain": [
              "False"
            ]
          },
          "metadata": {},
          "execution_count": 45
        }
      ],
      "source": [
        "np.sqrt(-1) == np.emath.sqrt(-1)"
      ]
    },
    {
      "cell_type": "markdown",
      "metadata": {
        "id": "DeOgxs-LvCqx"
      },
      "source": [
        "#### 33. How to get the dates of yesterday, today and tomorrow? (★☆☆) \n",
        "(**hint**: np.datetime64, np.timedelta64)"
      ]
    },
    {
      "cell_type": "code",
      "execution_count": null,
      "metadata": {
        "collapsed": true,
        "id": "cmolTB0yvCqx",
        "colab": {
          "base_uri": "https://localhost:8080/"
        },
        "outputId": "04080edf-0bec-4041-bd92-a64b4b7b479f"
      },
      "outputs": [
        {
          "output_type": "stream",
          "name": "stdout",
          "text": [
            "2022-11-23\n",
            "2022-11-22\n",
            "2022-11-24\n"
          ]
        }
      ],
      "source": [
        "today = np.datetime64('today', 'D')\n",
        "yesterday = np.datetime64('today', 'D')-np.timedelta64(1, 'D')\n",
        "tomorrow = np.datetime64('today', 'D')+np.timedelta64(1, 'D')\n",
        "print(today)\n",
        "print(yesterday)\n",
        "print(tomorrow)"
      ]
    },
    {
      "cell_type": "markdown",
      "metadata": {
        "id": "Kmf6MMqavCqy"
      },
      "source": [
        "#### 34. How to get all the dates corresponding to the month of July 2016? (★★☆) \n",
        "(**hint**: np.arange(dtype=datetime64\\['D'\\]))"
      ]
    },
    {
      "cell_type": "code",
      "execution_count": null,
      "metadata": {
        "id": "5CjAhPEnvCqy",
        "colab": {
          "base_uri": "https://localhost:8080/"
        },
        "outputId": "8fbaf43c-022b-4967-eae2-a5a5895c022f"
      },
      "outputs": [
        {
          "output_type": "stream",
          "name": "stdout",
          "text": [
            "['2016-07-01' '2016-07-02' '2016-07-03' ... '2020-07-29' '2020-07-30'\n",
            " '2020-07-31']\n"
          ]
        }
      ],
      "source": [
        "print(np.arange('2016-07', '2020-08',dtype='datetime64[D]'))"
      ]
    },
    {
      "cell_type": "markdown",
      "metadata": {
        "id": "tyt3Jov-vCqy"
      },
      "source": [
        "#### 35. How to compute ((A+B)\\*(-A/2)) in place (without copy)? (★★☆) \n",
        "(**hint**: np.add(out=), np.negative(out=), np.multiply(out=), np.divide(out=))"
      ]
    },
    {
      "cell_type": "code",
      "execution_count": null,
      "metadata": {
        "id": "T15I49HcvCqy",
        "colab": {
          "base_uri": "https://localhost:8080/"
        },
        "outputId": "b08dfbf2-5f25-4d77-a3d9-c3b442e64842"
      },
      "outputs": [
        {
          "output_type": "execute_result",
          "data": {
            "text/plain": [
              "array([-1.5, -1.5, -1.5])"
            ]
          },
          "metadata": {},
          "execution_count": 55
        }
      ],
      "source": [
        "A = np.ones(3)*1\n",
        "B = np.ones(3)*2\n",
        "np.add(A,B,out=B)\n",
        "np.divide(A,2,out=A)\n",
        "np.negative(A,out=A)\n",
        "np.multiply(A,B,out=A)"
      ]
    },
    {
      "cell_type": "markdown",
      "metadata": {
        "id": "7mXJ221HvCqy"
      },
      "source": [
        "#### 36. Extract the integer part of a random array using 5 different methods (★★☆) \n",
        "(**hint**: %, np.floor, np.ceil, astype, np.trunc)"
      ]
    },
    {
      "cell_type": "code",
      "execution_count": null,
      "metadata": {
        "id": "SRZwPPZpvCqy",
        "colab": {
          "base_uri": "https://localhost:8080/"
        },
        "outputId": "0302a065-a4f1-407c-c8af-5734ff483fb7"
      },
      "outputs": [
        {
          "output_type": "stream",
          "name": "stdout",
          "text": [
            "[1. 3. 3. 7. 2. 3. 7. 5. 7. 0.]\n",
            "[1. 3. 3. 7. 2. 3. 7. 5. 7. 0.]\n",
            "[1. 3. 3. 7. 2. 3. 7. 5. 7. 0.]\n",
            "[1 3 3 7 2 3 7 5 7 0]\n",
            "[1. 3. 3. 7. 2. 3. 7. 5. 7. 0.]\n"
          ]
        }
      ],
      "source": [
        "Z = np.random.uniform(0,10,10)\n",
        "print(Z - Z%1)\n",
        "print(Z // 1)\n",
        "print(np.floor(Z))\n",
        "print(Z.astype(int))\n",
        "print(np.trunc(Z))"
      ]
    },
    {
      "cell_type": "markdown",
      "metadata": {
        "id": "xjUh6FVYvCqy"
      },
      "source": [
        "#### 37. Create a 5x5 matrix with row values ranging from 0 to 4 (★★☆) \n",
        "(**hint**: np.arange)"
      ]
    },
    {
      "cell_type": "code",
      "execution_count": null,
      "metadata": {
        "id": "-x9dGTWlvCqy",
        "colab": {
          "base_uri": "https://localhost:8080/"
        },
        "outputId": "bf870d3d-8aaa-40e1-fe26-2d5fd7753322"
      },
      "outputs": [
        {
          "output_type": "stream",
          "name": "stdout",
          "text": [
            "[[0. 1. 2. 3. 4.]\n",
            " [0. 1. 2. 3. 4.]\n",
            " [0. 1. 2. 3. 4.]\n",
            " [0. 1. 2. 3. 4.]\n",
            " [0. 1. 2. 3. 4.]]\n"
          ]
        }
      ],
      "source": [
        "Z = np.zeros((5,5))\n",
        "Z += np.arange(5)\n",
        "print(Z)"
      ]
    },
    {
      "cell_type": "markdown",
      "metadata": {
        "id": "FINwDhRAvCqz"
      },
      "source": [
        "#### 38. Consider a generator function that generates 10 integers and use it to build an array (★☆☆) \n",
        "(**hint**: np.fromiter)"
      ]
    },
    {
      "cell_type": "code",
      "execution_count": null,
      "metadata": {
        "id": "NoWPkgb6vCqz",
        "colab": {
          "base_uri": "https://localhost:8080/"
        },
        "outputId": "36b3f672-fabc-4e77-dc53-387b1081aafa"
      },
      "outputs": [
        {
          "output_type": "stream",
          "name": "stdout",
          "text": [
            "[0. 1. 2. 3. 4. 5. 6. 7. 8. 9.]\n"
          ]
        }
      ],
      "source": [
        "def generate():\n",
        "    for x in range(10):\n",
        "        yield x\n",
        "Z = np.fromiter(generate(),dtype=float,count=-1)\n",
        "print(Z)"
      ]
    },
    {
      "cell_type": "markdown",
      "metadata": {
        "id": "yo_vuHwvvCqz"
      },
      "source": [
        "#### 39. Create a vector of size 10 with values ranging from 0 to 1, both excluded (★★☆) \n",
        "(**hint**: np.linspace)"
      ]
    },
    {
      "cell_type": "code",
      "execution_count": null,
      "metadata": {
        "id": "8Hc0qfDHvCqz",
        "colab": {
          "base_uri": "https://localhost:8080/"
        },
        "outputId": "4008317a-c015-431c-8293-debfed113d74"
      },
      "outputs": [
        {
          "output_type": "stream",
          "name": "stdout",
          "text": [
            "[0.09090909 0.18181818 0.27272727 0.36363636 0.45454545 0.54545455\n",
            " 0.63636364 0.72727273 0.81818182 0.90909091]\n"
          ]
        }
      ],
      "source": [
        "x = np.linspace(0,1,12,endpoint=True)[1:-1]\n",
        "print(x)"
      ]
    },
    {
      "cell_type": "markdown",
      "metadata": {
        "id": "hB3FN5tAvCqz"
      },
      "source": [
        "#### 40. Create a random vector of size 10 and sort it (★★☆) \n",
        "(**hint**: sort)"
      ]
    },
    {
      "cell_type": "code",
      "execution_count": null,
      "metadata": {
        "id": "bcoCwMaQvCqz",
        "colab": {
          "base_uri": "https://localhost:8080/"
        },
        "outputId": "41914ad8-6344-4ef4-da36-4fc8a791e6fd"
      },
      "outputs": [
        {
          "output_type": "stream",
          "name": "stdout",
          "text": [
            "[0.51067686 0.46183628 0.35588194 0.75276103 0.39505244 0.51664245\n",
            " 0.71453547 0.34923689 0.87460645 0.02830013]\n",
            "[0.02830013 0.34923689 0.35588194 0.39505244 0.46183628 0.51067686\n",
            " 0.51664245 0.71453547 0.75276103 0.87460645]\n"
          ]
        }
      ],
      "source": [
        "x=np.random.random(10)\n",
        "print(x)\n",
        "x.sort( )\n",
        "print(x)"
      ]
    },
    {
      "cell_type": "markdown",
      "metadata": {
        "id": "_w00joyhvCq0"
      },
      "source": [
        "#### 41. How to sum a small array faster than np.sum? (★★☆) \n",
        "(**hint**: np.add.reduce)"
      ]
    },
    {
      "cell_type": "code",
      "execution_count": null,
      "metadata": {
        "id": "w3oW4ndEvCq0",
        "colab": {
          "base_uri": "https://localhost:8080/"
        },
        "outputId": "a907e872-279e-4230-c591-b8499c66d636"
      },
      "outputs": [
        {
          "output_type": "execute_result",
          "data": {
            "text/plain": [
              "45"
            ]
          },
          "metadata": {},
          "execution_count": 66
        }
      ],
      "source": [
        "Z = np.arange(10)\n",
        "np.add.reduce(Z)"
      ]
    },
    {
      "cell_type": "markdown",
      "metadata": {
        "id": "ZFH3LdOuvCq0"
      },
      "source": [
        "#### 42. Consider two random array A and B, check if they are equal (★★☆) \n",
        "(**hint**: np.allclose, np.array\\_equal)"
      ]
    },
    {
      "cell_type": "code",
      "execution_count": null,
      "metadata": {
        "id": "npxUsiY_vCq0",
        "colab": {
          "base_uri": "https://localhost:8080/"
        },
        "outputId": "fef39845-abf4-4f89-e940-cf8c1d9817c5"
      },
      "outputs": [
        {
          "output_type": "stream",
          "name": "stdout",
          "text": [
            "[1 1 0 0 1 0]\n",
            "[1 1 1 0 0 1]\n",
            "False\n",
            "False\n"
          ]
        }
      ],
      "source": [
        "x=np.random.randint(0,2,6)\n",
        "print(x)\n",
        "y=np.random.randint(0,2,6)\n",
        "print(y)\n",
        "equal = np.allclose(x,y)\n",
        "print(equal)\n",
        "equal = np.array_equal(x,y)\n",
        "print(equal)\n"
      ]
    },
    {
      "cell_type": "markdown",
      "metadata": {
        "id": "ydku-beIvCq0"
      },
      "source": [
        "#### 43. Make an array immutable (read-only) (★★☆) \n",
        "(**hint**: flags.writeable)"
      ]
    },
    {
      "cell_type": "code",
      "execution_count": null,
      "metadata": {
        "id": "meskiQBHvCq0",
        "colab": {
          "base_uri": "https://localhost:8080/",
          "height": 200
        },
        "outputId": "34094f02-0c3b-423d-874c-c3ac441e1a5f"
      },
      "outputs": [
        {
          "output_type": "error",
          "ename": "ValueError",
          "evalue": "ignored",
          "traceback": [
            "\u001b[0;31m---------------------------------------------------------------------------\u001b[0m",
            "\u001b[0;31mValueError\u001b[0m                                Traceback (most recent call last)",
            "\u001b[0;32m<ipython-input-72-8c01b633c9f0>\u001b[0m in \u001b[0;36m<module>\u001b[0;34m\u001b[0m\n\u001b[1;32m      2\u001b[0m \u001b[0mx\u001b[0m \u001b[0;34m=\u001b[0m \u001b[0mnp\u001b[0m\u001b[0;34m.\u001b[0m\u001b[0mzeros\u001b[0m\u001b[0;34m(\u001b[0m\u001b[0;36m10\u001b[0m\u001b[0;34m)\u001b[0m\u001b[0;34m\u001b[0m\u001b[0;34m\u001b[0m\u001b[0m\n\u001b[1;32m      3\u001b[0m \u001b[0mx\u001b[0m\u001b[0;34m.\u001b[0m\u001b[0mflags\u001b[0m\u001b[0;34m.\u001b[0m\u001b[0mwriteable\u001b[0m \u001b[0;34m=\u001b[0m \u001b[0;32mFalse\u001b[0m\u001b[0;34m\u001b[0m\u001b[0;34m\u001b[0m\u001b[0m\n\u001b[0;32m----> 4\u001b[0;31m \u001b[0mx\u001b[0m\u001b[0;34m[\u001b[0m\u001b[0;36m0\u001b[0m\u001b[0;34m]\u001b[0m\u001b[0;34m=\u001b[0m\u001b[0;36m1\u001b[0m\u001b[0;34m\u001b[0m\u001b[0;34m\u001b[0m\u001b[0m\n\u001b[0m",
            "\u001b[0;31mValueError\u001b[0m: assignment destination is read-only"
          ]
        }
      ],
      "source": [
        "import numpy as np\n",
        "x = np.zeros(10)\n",
        "x.flags.writeable = False\n"
      ]
    },
    {
      "cell_type": "markdown",
      "metadata": {
        "id": "85vIHkgRvCq0"
      },
      "source": [
        "#### 44. Consider a random 10x2 matrix representing cartesian coordinates, convert them to polar coordinates (★★☆) \n",
        "(**hint**: np.sqrt, np.arctan2)"
      ]
    },
    {
      "cell_type": "code",
      "execution_count": null,
      "metadata": {
        "id": "KBF50e6_vCq1",
        "colab": {
          "base_uri": "https://localhost:8080/"
        },
        "outputId": "6cc9bcef-2001-4c1d-f212-5359fe2ae38a"
      },
      "outputs": [
        {
          "output_type": "stream",
          "name": "stdout",
          "text": [
            "[0.72157649 0.66399522 1.18953301 0.8368281  0.91967521 0.81923619\n",
            " 0.71714065 1.1572177  0.74800221 0.70879537]\n",
            "[1.54808902 0.90882522 0.96692103 0.82861715 0.79821201 1.49270078\n",
            " 0.30022536 0.9185138  0.95999854 0.41031624]\n"
          ]
        }
      ],
      "source": [
        "import numpy as np\n",
        "z= np.random.random((10,2))\n",
        "x,y = z[:,0], z[:,1]\n",
        "r = np.sqrt(x**2+y**2)\n",
        "t = np.arctan2(y,x)\n",
        "print(r)\n",
        "print(t)"
      ]
    },
    {
      "cell_type": "markdown",
      "metadata": {
        "id": "mzIKri2AvCq1"
      },
      "source": [
        "#### 45. Create random vector of size 10 and replace the maximum value by 0 (★★☆) \n",
        "(**hint**: argmax)"
      ]
    },
    {
      "cell_type": "code",
      "execution_count": null,
      "metadata": {
        "id": "_rk5nQ4YvCq1",
        "colab": {
          "base_uri": "https://localhost:8080/"
        },
        "outputId": "ef18c0b6-3121-4b00-bf3f-0b5163e8ea1e"
      },
      "outputs": [
        {
          "output_type": "stream",
          "name": "stdout",
          "text": [
            "[0.74272259 0.20324823 0.3952649  0.1992246  0.35929579 0.48184687\n",
            " 0.90209333 0.60529085 0.08538855 0.23494702]\n",
            "[0.74272259 0.20324823 0.3952649  0.1992246  0.35929579 0.48184687\n",
            " 0.         0.60529085 0.08538855 0.23494702]\n"
          ]
        }
      ],
      "source": [
        "x=np.random.random(10)\n",
        "print(x)\n",
        "x[x.argmax()] = 0\n",
        "print(x)"
      ]
    },
    {
      "cell_type": "markdown",
      "metadata": {
        "id": "cCG6bC9kvCq1"
      },
      "source": [
        "#### 46. Create a structured array with `x` and `y` coordinates covering the \\[0,1\\]x\\[0,1\\] area (★★☆) \n",
        "(**hint**: np.meshgrid)"
      ]
    },
    {
      "cell_type": "code",
      "execution_count": null,
      "metadata": {
        "id": "zNn9-_rhvCq1",
        "colab": {
          "base_uri": "https://localhost:8080/"
        },
        "outputId": "c3f62b10-8af5-4803-c70d-f2d161379e07"
      },
      "outputs": [
        {
          "output_type": "stream",
          "name": "stdout",
          "text": [
            "[[(0.  , 0.  ) (0.25, 0.  ) (0.5 , 0.  ) (0.75, 0.  ) (1.  , 0.  )]\n",
            " [(0.  , 0.25) (0.25, 0.25) (0.5 , 0.25) (0.75, 0.25) (1.  , 0.25)]\n",
            " [(0.  , 0.5 ) (0.25, 0.5 ) (0.5 , 0.5 ) (0.75, 0.5 ) (1.  , 0.5 )]\n",
            " [(0.  , 0.75) (0.25, 0.75) (0.5 , 0.75) (0.75, 0.75) (1.  , 0.75)]\n",
            " [(0.  , 1.  ) (0.25, 1.  ) (0.5 , 1.  ) (0.75, 1.  ) (1.  , 1.  )]]\n"
          ]
        }
      ],
      "source": [
        "z = np.zeros((5, 5), [('x', float), ('y', float)])\n",
        "z['x'], z['y'] = np.meshgrid(np.linspace(0, 1, 5), np.linspace(0, 1, 5))\n",
        "print(z)\n"
      ]
    },
    {
      "cell_type": "markdown",
      "metadata": {
        "id": "_UAL8PukvCq1"
      },
      "source": [
        "####  47. Given two arrays, X and Y, construct the Cauchy matrix C (Cij =1/(xi - yj)) \n",
        "(**hint**: np.subtract.outer)"
      ]
    },
    {
      "cell_type": "code",
      "execution_count": null,
      "metadata": {
        "id": "ayBTM_fwvCq1",
        "colab": {
          "base_uri": "https://localhost:8080/"
        },
        "outputId": "d79767fc-f602-4d92-fa40-6967dd2f0fc5"
      },
      "outputs": [
        {
          "output_type": "stream",
          "name": "stdout",
          "text": [
            "[[[[ 3.57337801e+00  1.18139902e+00  2.43335468e+00  1.66974488e+00\n",
            "     6.08477394e+00]\n",
            "   [ 1.51469477e+00  1.06680381e+00  3.29612797e+00  2.67449489e+01\n",
            "     1.22575888e+00]\n",
            "   [ 2.37150681e+00  1.45952216e+00  4.28055032e+00  4.04061219e+00\n",
            "     1.07725000e+00]\n",
            "   [ 1.35266352e+00  1.13696484e+00  1.76981431e+00  1.52550671e+00\n",
            "     1.52512614e+00]\n",
            "   [ 1.01879715e+01  6.16490578e+00  1.07038512e+00  5.31527728e+00\n",
            "     1.09054511e+00]]\n",
            "\n",
            "  [[ 5.10683224e+00  1.31160800e+00  3.05881343e+00  1.94226522e+00\n",
            "     1.24512067e+01]\n",
            "   [ 1.73560527e+00  1.17185440e+00  4.55881733e+00 -2.14404078e+01\n",
            "     1.36651227e+00]\n",
            "   [ 2.96171954e+00  1.66354859e+00  6.68522129e+00  6.11785028e+00\n",
            "     1.18447136e+00]\n",
            "   [ 1.52613271e+00  1.25706544e+00  2.07900257e+00  1.74981571e+00\n",
            "     1.74931501e+00]\n",
            "   [ 7.08023514e+01  1.27914305e+01  1.17617719e+00  9.60561295e+00\n",
            "     1.20056455e+00]]\n",
            "\n",
            "  [[-3.35635068e+00  3.72211894e+00 -5.99396071e+00  4.73843967e+01\n",
            "    -2.41869994e+00]\n",
            "   [ 1.21345785e+01  2.78094818e+00 -3.64426688e+00 -1.85048231e+00\n",
            "     4.20112922e+00]\n",
            "   [-6.40544996e+00  9.31394766e+00 -2.90549806e+00 -3.02752650e+00\n",
            "     2.85306918e+00]\n",
            "   [ 6.19224721e+00  3.31405897e+00 -7.83768815e+01  1.28650450e+01\n",
            "     1.28380286e+01]\n",
            "   [-2.08491906e+00 -2.40626739e+00  2.80541670e+00 -2.56638630e+00\n",
            "     2.94826340e+00]]\n",
            "\n",
            "  [[-1.60668792e+00 -1.79238484e+01 -2.03545620e+00 -3.29650296e+00\n",
            "    -1.35519533e+00]\n",
            "   [-4.13143525e+00  2.84626006e+01 -1.66984111e+00 -1.15626263e+00\n",
            "    -1.15707903e+01]\n",
            "   [-2.08085011e+00 -4.60638655e+00 -1.49559361e+00 -1.52728090e+00\n",
            "     3.83965938e+01]\n",
            "   [-6.13634341e+00 -4.40315671e+01 -2.96547043e+00 -4.05308312e+00\n",
            "    -4.05577203e+00]\n",
            "   [-1.24364082e+00 -1.35128347e+00  3.12524177e+01 -1.40034701e+00\n",
            "     6.79026811e+01]]\n",
            "\n",
            "  [[-7.69543436e+00  2.29011321e+00  8.61422676e+02  5.28822246e+00\n",
            "    -4.07415309e+00]\n",
            "   [ 3.99353702e+00  1.89542900e+00 -9.39777646e+00 -2.68525443e+00\n",
            "     2.46289219e+00]\n",
            "   [ 8.41863760e+01  3.63159207e+00 -5.67602585e+00 -6.16115699e+00\n",
            "     1.92865816e+00]\n",
            "   [ 3.03501443e+00  2.12883611e+00  6.44177985e+00  4.06958224e+00\n",
            "     4.06687498e+00]\n",
            "   [-3.20883625e+00 -4.03900145e+00  1.90676401e+00 -4.51146500e+00\n",
            "     1.97169364e+00]]]\n",
            "\n",
            "\n",
            " [[[-2.17396201e+00  9.37935169e+00 -3.04060804e+00 -7.09506679e+00\n",
            "    -1.73764288e+00]\n",
            "   [-1.25568404e+01  5.06219947e+00 -2.29121001e+00 -1.42359566e+00\n",
            "     1.31606227e+01]\n",
            "   [-3.14303265e+00 -1.82878432e+01 -1.97541765e+00 -2.03107696e+00\n",
            "     5.30637007e+00]\n",
            "   [-1.80266865e+03  7.15830948e+00 -5.72063208e+00 -1.18600059e+01\n",
            "    -1.18830591e+01]\n",
            "   [-1.55840451e+00 -1.73121680e+00  5.14386645e+00 -1.81257948e+00\n",
            "     5.64538855e+00]]\n",
            "\n",
            "  [[ 5.29498292e+00  1.32368834e+00  3.12533135e+00  1.96887345e+00\n",
            "     1.36322583e+01]\n",
            "   [ 1.75682150e+00  1.18148809e+00  4.70816324e+00 -1.86570689e+01\n",
            "     1.37963021e+00]\n",
            "   [ 3.02403860e+00  1.68302985e+00  7.01136420e+00  6.38985699e+00\n",
            "     1.19431448e+00]\n",
            "   [ 1.54251259e+00  1.26815772e+00  2.10951860e+00  1.77138294e+00\n",
            "     1.77086982e+00]\n",
            "   [ 1.39552903e+02  1.40411465e+01  1.18588238e+00  1.02936030e+01\n",
            "     1.21067810e+00]]\n",
            "\n",
            "  [[-3.54212726e+00  3.51752761e+00 -6.61339906e+00  2.72253952e+01\n",
            "    -2.51370706e+00]\n",
            "   [ 1.02003819e+01  2.66513152e+00 -3.86432816e+00 -1.90558499e+00\n",
            "     3.94232132e+00]\n",
            "   [-7.11791199e+00  8.13059167e+00 -3.04368926e+00 -3.17786960e+00\n",
            "     2.73129898e+00]\n",
            "   [ 5.64593187e+00  3.15088451e+00  3.48729165e+02  1.07116358e+01\n",
            "     1.06929001e+01]\n",
            "   [-2.15513290e+00 -2.50028133e+00  2.68759620e+00 -2.67360711e+00\n",
            "     2.81841669e+00]]\n",
            "\n",
            "  [[ 7.24512882e+00  1.41918336e+00  3.71565129e+00  2.18784673e+00\n",
            "     4.44026731e+01]\n",
            "   [ 1.92910336e+00  1.25698254e+00  6.18954354e+00 -9.57549546e+00\n",
            "     1.48368468e+00]\n",
            "   [ 3.57335106e+00  1.84049438e+00  1.08942733e+01  9.46398146e+00\n",
            "     1.27151054e+00]\n",
            "   [ 1.67375593e+00  1.35554402e+00  2.36290680e+00  1.94667504e+00\n",
            "     1.94605536e+00]\n",
            "   [-2.28997968e+01  4.90556676e+01  1.26195752e+00  2.15919935e+01\n",
            "     1.29007433e+00]]\n",
            "\n",
            "  [[-5.31434459e+00  2.64244875e+00 -1.75248261e+01  7.64078060e+00\n",
            "    -3.29302059e+00]\n",
            "   [ 5.20340602e+00  2.13055045e+00 -6.07419286e+00 -2.32219549e+00\n",
            "     2.87518318e+00]\n",
            "   [-2.15775936e+01  4.60535458e+00 -4.26616822e+00 -4.53453138e+00\n",
            "     2.17262636e+00]\n",
            "   [ 3.68643280e+00  2.43003050e+00  1.03078095e+01  5.33325680e+00\n",
            "     5.32860818e+00]\n",
            "   [-2.70370937e+00 -3.27001789e+00  2.14488265e+00 -3.57295645e+00\n",
            "     2.22739271e+00]]]\n",
            "\n",
            "\n",
            " [[[-1.55067180e+00 -1.27754758e+01 -1.94638209e+00 -3.06903661e+00\n",
            "    -1.31512431e+00]\n",
            "   [-3.78028933e+00  7.90486168e+01 -1.60941765e+00 -1.12696526e+00\n",
            "    -9.18207022e+00]\n",
            "   [-1.98784947e+00 -4.17408816e+00 -1.44693884e+00 -1.47657753e+00\n",
            "     2.80851888e+02]\n",
            "   [-5.39237971e+00 -2.21266546e+01 -2.78010993e+00 -3.71458416e+00\n",
            "    -3.71684257e+00]\n",
            "   [-1.20981294e+00 -1.31144006e+00  1.05106679e+02 -1.35760349e+00\n",
            "    -1.28925421e+02]]\n",
            "\n",
            "  [[-1.77679991e+00  2.63349058e+02 -2.31641527e+00 -4.10234639e+00\n",
            "    -1.47424745e+00]\n",
            "   [-5.48071927e+00  1.05571365e+01 -1.85435680e+00 -1.24182478e+00\n",
            "    -3.72638097e+01]\n",
            "   [-2.37538726e+00 -6.34916324e+00 -1.64192289e+00 -1.68019343e+00\n",
            "     1.16777672e+01]\n",
            "   [-9.67354975e+00  2.71165464e+01 -3.60197079e+00 -5.34368083e+00\n",
            "    -5.34835580e+00]\n",
            "   [-1.34318000e+00 -1.46961928e+00  1.09186569e+01 -1.52783747e+00\n",
            "     1.34560904e+01]]\n",
            "\n",
            "  [[-2.06413807e+00  1.21738770e+01 -2.83000982e+00 -6.04532505e+00\n",
            "    -1.66676023e+00]\n",
            "   [-9.60504580e+00  5.77805850e+00 -2.16955185e+00 -1.37566583e+00\n",
            "     1.94136420e+01]\n",
            "   [-2.91853100e+00 -1.26334071e+01 -1.88431745e+00 -1.93489574e+00\n",
            "     6.09835424e+00]\n",
            "   [-3.99539572e+01  8.67876924e+00 -5.01806667e+00 -9.19193120e+00\n",
            "    -9.20577276e+00]\n",
            "   [-1.50114989e+00 -1.66084683e+00  5.88469939e+00 -1.73558675e+00\n",
            "     6.55043362e+00]]\n",
            "\n",
            "  [[ 2.05971146e+02  1.74989805e+00  7.35493674e+00  3.08735656e+00\n",
            "    -9.03770534e+00]\n",
            "   [ 2.59600804e+00  1.50969083e+00  3.52186083e+01 -4.20871949e+00\n",
            "     1.84901350e+00]\n",
            "   [ 6.81753246e+00  2.43805182e+00 -2.41677961e+01 -3.63570952e+01\n",
            "     1.53069636e+00]\n",
            "   [ 2.15382648e+00  1.65414349e+00  3.44781422e+00  2.62792960e+00\n",
            "     2.62680043e+00]\n",
            "   [-5.65491775e+00 -8.86652810e+00  1.51687298e+00 -1.15134077e+01\n",
            "     1.55767992e+00]]\n",
            "\n",
            "  [[-6.05006614e+01  1.81792377e+00  8.72757947e+00  3.30558959e+00\n",
            "    -7.57395881e+00]\n",
            "   [ 2.74858909e+00  1.56005392e+00  1.42647520e+02 -3.86121624e+00\n",
            "     1.92513111e+00]\n",
            "   [ 7.98104709e+00  2.57215036e+00 -1.59334186e+01 -2.04546071e+01\n",
            "     1.58249473e+00]\n",
            "   [ 2.25781461e+00  1.71479913e+00  3.72224551e+00  2.78439920e+00\n",
            "     2.78313160e+00]\n",
            "   [-5.04487351e+00 -7.45336923e+00  1.56772448e+00 -9.23880964e+00\n",
            "     1.61135264e+00]]]\n",
            "\n",
            "\n",
            " [[[-2.66483313e+00  5.22605847e+00 -4.09584326e+00 -1.77899918e+01\n",
            "    -2.03765329e+00]\n",
            "   [ 1.96318963e+02  3.54265449e+00 -2.84317889e+00 -1.61886947e+00\n",
            "     6.22216103e+00]\n",
            "   [-4.28389488e+00  3.32773323e+01 -2.37253303e+00 -2.45327724e+00\n",
            "     3.66053162e+00]\n",
            "   [ 1.18797456e+01  4.45574406e+00 -1.11019534e+01  2.41179032e+03\n",
            "     1.72948975e+03]\n",
            "   [-1.79549235e+00 -2.02882232e+00  3.58245856e+00 -2.14147286e+00\n",
            "     3.81872737e+00]]\n",
            "\n",
            "  [[ 1.64823757e+01  1.59419031e+00  5.21433752e+00  2.63353675e+00\n",
            "    -1.82376125e+01]\n",
            "   [ 2.26745731e+00  1.39236381e+00  1.18750887e+01 -5.50096933e+00\n",
            "     1.67603921e+00]\n",
            "   [ 4.93835811e+00  2.14601775e+00  6.92595596e+01  3.53221231e+01\n",
            "     1.41021198e+00]\n",
            "   [ 1.92268584e+00  1.51432944e+00  2.89138808e+00  2.29177235e+00\n",
            "     2.29091353e+00]\n",
            "   [-8.26300040e+00 -1.75537449e+01  1.39847075e+00 -3.22170742e+01\n",
            "     1.43308312e+00]]\n",
            "\n",
            "  [[-3.36724671e+00  3.70880978e+00 -6.02880012e+00  4.53142724e+01\n",
            "    -2.42435327e+00]\n",
            "   [ 1.19942570e+01  2.77351201e+00 -3.65711605e+00 -1.85378959e+00\n",
            "     4.18418184e+00]\n",
            "   [-6.44525294e+00  9.23105593e+00 -2.91365985e+00 -3.03638931e+00\n",
            "     2.84524286e+00]\n",
            "   [ 6.15549888e+00  3.30350390e+00 -8.47834443e+01  1.27074309e+01\n",
            "     1.26810717e+01]\n",
            "   [-2.08911838e+00 -2.41186268e+00  2.79784928e+00 -2.57275200e+00\n",
            "     2.93990687e+00]]\n",
            "\n",
            "  [[ 5.25152378e+00  1.32095556e+00  3.11013963e+00  1.96283351e+00\n",
            "     1.33478704e+01]\n",
            "   [ 1.75201094e+00  1.17931043e+00  4.67377181e+00 -1.92174326e+01\n",
            "     1.37666182e+00]\n",
            "   [ 3.00981341e+00  1.67861441e+00  6.93536603e+00  6.32667433e+00\n",
            "     1.19208934e+00]\n",
            "   [ 1.53880285e+00  1.26564920e+00  2.10258644e+00  1.76649242e+00\n",
            "     1.76598213e+00]\n",
            "   [ 1.14565366e+02  1.37396315e+01  1.18368851e+00  1.01306228e+01\n",
            "     1.20839162e+00]]\n",
            "\n",
            "  [[-1.71498441e+00 -6.06469888e+01 -2.21244993e+00 -3.78717526e+00\n",
            "    -1.43143781e+00]\n",
            "   [-4.93233064e+00  1.34342606e+01 -1.78712915e+00 -1.21130972e+00\n",
            "    -2.12216024e+01]\n",
            "   [-2.26618576e+00 -5.62470266e+00 -1.58899625e+00 -1.62481237e+00\n",
            "     1.53029911e+01]\n",
            "   [-8.08663863e+00  6.02709320e+01 -3.35669706e+00 -4.82106539e+00\n",
            "    -4.82487032e+00]\n",
            "   [-1.30755196e+00 -1.42707413e+00  1.40251963e+01 -1.48190742e+00\n",
            "     1.85083444e+01]]]\n",
            "\n",
            "\n",
            " [[[-1.70353561e+00 -4.90012951e+01 -2.19343274e+00 -3.73179164e+00\n",
            "    -1.42345301e+00]\n",
            "   [-4.83880327e+00  1.41808187e+01 -1.77470034e+00 -1.20558701e+00\n",
            "    -1.95922637e+01]\n",
            "   [-2.24623774e+00 -5.50339757e+00 -1.57916297e+00 -1.61453225e+00\n",
            "     1.62792363e+01]\n",
            "   [-7.83824778e+00  7.89079952e+01 -3.31311605e+00 -4.73167184e+00\n",
            "    -4.73533692e+00]\n",
            "   [-1.30088625e+00 -1.41913780e+00  1.48408709e+01 -1.47335132e+00\n",
            "     1.99557282e+01]]\n",
            "\n",
            "  [[-5.33595361e+00  2.63713852e+00 -1.77620288e+01  7.59654954e+00\n",
            "    -3.30130484e+00]\n",
            "   [ 5.18285516e+00  2.12709701e+00 -6.10243941e+00 -2.32631210e+00\n",
            "     2.86889747e+00]\n",
            "   [-2.19383215e+01  4.58924894e+00 -4.28008259e+00 -4.55025460e+00\n",
            "     2.16903528e+00]\n",
            "   [ 3.67610596e+00  2.42553898e+00  1.02274739e+01  5.31166957e+00\n",
            "     5.30705849e+00]\n",
            "   [-2.70929136e+00 -3.27818667e+00  2.14138263e+00 -3.58271112e+00\n",
            "     2.22361846e+00]]\n",
            "\n",
            "  [[-2.62361606e+00  5.39218768e+00 -3.99927567e+00 -1.61013245e+01\n",
            "    -2.01346633e+00]\n",
            "   [-1.24756773e+03  3.61822122e+00 -2.79630877e+00 -1.60356546e+00\n",
            "     6.45909065e+00]\n",
            "   [-4.17837058e+00  4.13989968e+01 -2.33980657e+00 -2.41830175e+00\n",
            "     3.74126808e+00]\n",
            "   [ 1.27743980e+01  4.57594497e+00 -1.04199718e+01 -1.82459065e+02\n",
            "    -1.88072237e+02]\n",
            "   [-1.77668615e+00 -2.00484331e+00  3.65975144e+00 -2.11477458e+00\n",
            "     3.90667676e+00]]\n",
            "\n",
            "  [[-3.79822311e+00  3.29678506e+00 -7.56584433e+00  1.79321914e+01\n",
            "    -2.64002975e+00]\n",
            "   [ 8.54184221e+00  2.53645376e+00 -4.17115110e+00 -1.97730835e+00\n",
            "     3.66712912e+00]\n",
            "   [-8.23347375e+00  7.04089001e+00 -3.23087756e+00 -3.38248075e+00\n",
            "     2.59631432e+00]\n",
            "   [ 5.09803782e+00  2.97259487e+00  4.56563156e+01  8.89745868e+00\n",
            "     8.88452808e+00]\n",
            "   [-2.24732592e+00 -2.62522471e+00  2.55679325e+00 -2.81697034e+00\n",
            "     2.67490996e+00]]\n",
            "\n",
            "  [[-5.78211796e+00  2.54026441e+00 -2.39011696e+01  6.84464427e+00\n",
            "    -3.46681000e+00]\n",
            "   [ 4.82149005e+00  2.06362050e+00 -6.69308310e+00 -2.40729497e+00\n",
            "     2.75461698e+00]\n",
            "   [-3.21322095e+01  4.30363899e+00 -4.56247188e+00 -4.87075443e+00\n",
            "     2.10306988e+00]\n",
            "   [ 3.49054884e+00  2.34334494e+00  8.90973586e+00  4.93277513e+00\n",
            "     4.92879817e+00]\n",
            "   [-2.81976654e+00 -3.44132469e+00  2.07706353e+00 -3.77847104e+00\n",
            "     2.15434430e+00]]]]\n"
          ]
        }
      ],
      "source": [
        "x = np.random.random((5, 5))\n",
        "y = np.random.random((5, 5))\n",
        "c = 1 / np.subtract.outer(x, y)\n",
        "print(c)"
      ]
    },
    {
      "cell_type": "markdown",
      "metadata": {
        "id": "dNR8CEUdvCq1"
      },
      "source": [
        "#### 48. Print the minimum and maximum representable value for each numpy scalar type (★★☆) \n",
        "(**hint**: np.iinfo, np.finfo, eps)"
      ]
    },
    {
      "cell_type": "code",
      "execution_count": null,
      "metadata": {
        "id": "-6ErRda6vCq1",
        "colab": {
          "base_uri": "https://localhost:8080/"
        },
        "outputId": "38a65f6e-c0c5-4647-876f-dc16f9181b46"
      },
      "outputs": [
        {
          "output_type": "stream",
          "name": "stdout",
          "text": [
            "-128\n",
            "127\n",
            "-2147483648\n",
            "2147483647\n",
            "-9223372036854775808\n",
            "9223372036854775807\n",
            "-3.4028235e+38\n",
            "3.4028235e+38\n",
            "1.1920929e-07\n",
            "-1.7976931348623157e+308\n",
            "1.7976931348623157e+308\n",
            "2.220446049250313e-16\n"
          ]
        }
      ],
      "source": [
        "for dtype in [np.int8, np.int32, np.int64]:\n",
        "   print(np.iinfo(dtype).min)\n",
        "   print(np.iinfo(dtype).max)\n",
        "for dtype in [np.float32, np.float64]:\n",
        "   print(np.finfo(dtype).min)\n",
        "   print(np.finfo(dtype).max)\n",
        "   print(np.finfo(dtype).eps)"
      ]
    },
    {
      "cell_type": "markdown",
      "metadata": {
        "id": "jH7Vwxm0vCq2"
      },
      "source": [
        "#### 49. How to print all the values of an array? (★★☆) \n",
        "(**hint**: np.set\\_printoptions)"
      ]
    },
    {
      "cell_type": "code",
      "execution_count": null,
      "metadata": {
        "id": "K2ux9PuwvCq2",
        "colab": {
          "base_uri": "https://localhost:8080/"
        },
        "outputId": "c558e8da-e8ac-4c45-db1a-797e58909c41"
      },
      "outputs": [
        {
          "output_type": "stream",
          "name": "stdout",
          "text": [
            "[[0. 0. 0. 0.]\n",
            " [0. 0. 0. 0.]\n",
            " [0. 0. 0. 0.]\n",
            " [0. 0. 0. 0.]]\n"
          ]
        }
      ],
      "source": [
        "np.set_printoptions(threshold=10)\n",
        "x = np.zeros((4, 4))\n",
        "print(x)"
      ]
    },
    {
      "cell_type": "markdown",
      "metadata": {
        "id": "uYGqYfS5vCq2"
      },
      "source": [
        "#### 50. How to find the closest value (to a given scalar) in a vector? (★★☆) \n",
        "(**hint**: argmin)"
      ]
    },
    {
      "cell_type": "code",
      "execution_count": null,
      "metadata": {
        "id": "WQPWdWbfvCq2",
        "colab": {
          "base_uri": "https://localhost:8080/"
        },
        "outputId": "781876b6-109c-418c-bd51-85ec316940b8"
      },
      "outputs": [
        {
          "output_type": "stream",
          "name": "stdout",
          "text": [
            "[ 0  1  2  3  4  5  6  7  8  9 10 11 12 13 14 15 16 17 18 19 20 21 22 23\n",
            " 24 25 26 27 28 29 30 31 32 33 34 35 36 37 38 39 40 41 42 43 44 45 46 47\n",
            " 48 49 50 51 52 53 54 55 56 57 58 59 60 61 62 63 64 65 66 67 68 69 70 71\n",
            " 72 73 74 75 76 77 78 79 80 81 82 83 84 85 86 87 88 89 90 91 92 93 94 95\n",
            " 96 97 98 99]\n",
            "17.88600443517907\n",
            "18\n"
          ]
        }
      ],
      "source": [
        "import numpy as np\n",
        "x = np.arange(100)\n",
        "print(x)\n",
        "a = np.random.uniform(0,100)\n",
        "print(a)\n",
        "index = (np.abs(x-a)).argmin()\n",
        "print(x[index])"
      ]
    },
    {
      "cell_type": "markdown",
      "metadata": {
        "id": "1vt0pbsLvCq2"
      },
      "source": [
        "#### 51. Create a structured array representing a position (x,y) and a color (r,g,b) (★★☆) \n",
        "(**hint**: dtype)"
      ]
    },
    {
      "cell_type": "code",
      "execution_count": null,
      "metadata": {
        "id": "bJF5FQERvCq2",
        "colab": {
          "base_uri": "https://localhost:8080/"
        },
        "outputId": "2ff3983b-252b-44f9-80a5-2f7d834fbbaa"
      },
      "outputs": [
        {
          "output_type": "stream",
          "name": "stdout",
          "text": [
            "[((0., 0.), (0., 0., 0.)) ((0., 0.), (0., 0., 0.))\n",
            " ((0., 0.), (0., 0., 0.)) ((0., 0.), (0., 0., 0.))\n",
            " ((0., 0.), (0., 0., 0.)) ((0., 0.), (0., 0., 0.))\n",
            " ((0., 0.), (0., 0., 0.)) ((0., 0.), (0., 0., 0.))\n",
            " ((0., 0.), (0., 0., 0.)) ((0., 0.), (0., 0., 0.))]\n"
          ]
        },
        {
          "output_type": "stream",
          "name": "stderr",
          "text": [
            "/usr/local/lib/python3.7/dist-packages/ipykernel_launcher.py:5: FutureWarning: Passing (type, 1) or '1type' as a synonym of type is deprecated; in a future version of numpy, it will be understood as (type, (1,)) / '(1,)type'.\n",
            "  \"\"\"\n"
          ]
        }
      ],
      "source": [
        "Z = np.zeros(10, [ ('position', [ ('x', float, 1),\n",
        "                                  ('y', float, 1)]),\n",
        "                   ('color',    [ ('r', float, 1),\n",
        "                                  ('g', float, 1),\n",
        "                                  ('b', float, 1)])])\n",
        "print(Z)"
      ]
    },
    {
      "cell_type": "markdown",
      "metadata": {
        "id": "yjmR8DHxvCq2"
      },
      "source": [
        "#### 52. Consider a random vector with shape (100,2) representing coordinates, find point by point distances (★★☆) \n",
        "(**hint**: np.atleast\\_2d, T, np.sqrt)"
      ]
    },
    {
      "cell_type": "code",
      "execution_count": null,
      "metadata": {
        "id": "YTxJ9xjavCq2",
        "colab": {
          "base_uri": "https://localhost:8080/"
        },
        "outputId": "40be8c2d-c617-4aac-c0bd-f7a3bccb871a"
      },
      "outputs": [
        {
          "output_type": "stream",
          "name": "stdout",
          "text": [
            "[[0.         0.45206286 0.58904137 0.32999699 0.51322    0.19911112\n",
            "  0.72262791 0.59481546 0.56465376 0.5116069 ]\n",
            " [0.45206286 0.         0.26805763 0.66066561 0.22425607 0.64992531\n",
            "  0.31411008 0.73517953 0.67922794 0.27550302]\n",
            " [0.58904137 0.26805763 0.         0.66806734 0.07582555 0.76302602\n",
            "  0.17363892 0.99240647 0.93843132 0.10043442]\n",
            " [0.32999699 0.66066561 0.66806734 0.         0.60289188 0.2805673\n",
            "  0.83684532 0.90849911 0.88503019 0.56845007]\n",
            " [0.51322    0.22425607 0.07582555 0.60289188 0.         0.68796326\n",
            "  0.23399898 0.93034107 0.87761992 0.05898406]\n",
            " [0.19911112 0.64992531 0.76302602 0.2805673  0.68796326 0.\n",
            "  0.90842176 0.65795157 0.64450878 0.67604301]\n",
            " [0.72262791 0.31411008 0.17363892 0.83684532 0.23399898 0.90842176\n",
            "  0.         1.04228323 0.98486018 0.273374  ]\n",
            " [0.59481546 0.73517953 0.99240647 0.90849911 0.93034107 0.65795157\n",
            "  1.04228323 0.         0.05951689 0.96194272]\n",
            " [0.56465376 0.67922794 0.93843132 0.88503019 0.87761992 0.64450878\n",
            "  0.98486018 0.05951689 0.         0.91077727]\n",
            " [0.5116069  0.27550302 0.10043442 0.56845007 0.05898406 0.67604301\n",
            "  0.273374   0.96194272 0.91077727 0.        ]]\n"
          ]
        }
      ],
      "source": [
        "Z = np.random.random((10,2))\n",
        "X,Y = np.atleast_2d(Z[:,0], Z[:,1])\n",
        "D = np.sqrt( (X-X.T)**2 + (Y-Y.T)**2)\n",
        "print(D)"
      ]
    },
    {
      "cell_type": "markdown",
      "metadata": {
        "id": "9-GqN5k3vCq3"
      },
      "source": [
        "#### 53. How to convert a float (32 bits) array into an integer (32 bits) in place? \n",
        "(**hint**: astype(copy=False))"
      ]
    },
    {
      "cell_type": "code",
      "execution_count": null,
      "metadata": {
        "id": "w5hncGVXvCq3",
        "colab": {
          "base_uri": "https://localhost:8080/"
        },
        "outputId": "dcdb2e94-2b27-4a81-a069-ef960af09a39"
      },
      "outputs": [
        {
          "output_type": "stream",
          "name": "stdout",
          "text": [
            "[34 70 44 12 88  7 88 77 10 82]\n"
          ]
        }
      ],
      "source": [
        "Z = (np.random.rand(10)*100).astype(np.float32)\n",
        "Y = Z.view(np.int32)\n",
        "Y[:] = Z\n",
        "print(Y)"
      ]
    },
    {
      "cell_type": "markdown",
      "metadata": {
        "id": "yiCaU2HkvCq3"
      },
      "source": [
        "#### 54. How to read the following file? (★★☆) \n",
        "(**hint**: np.genfromtxt)"
      ]
    },
    {
      "cell_type": "markdown",
      "metadata": {
        "id": "aCoZN3C6vCq3"
      },
      "source": [
        "```\n",
        "1, 2, 3, 4, 5\n",
        "6,  ,  , 7, 8\n",
        " ,  , 9,10,11\n",
        "```"
      ]
    },
    {
      "cell_type": "code",
      "execution_count": null,
      "metadata": {
        "id": "pPn1cyJAvCq3",
        "colab": {
          "base_uri": "https://localhost:8080/"
        },
        "outputId": "b263f2d0-06fe-4436-ef43-1b1b36595d6b"
      },
      "outputs": [
        {
          "output_type": "stream",
          "name": "stdout",
          "text": [
            "[[ 1  2  3  4  5]\n",
            " [ 6 -1 -1  7  8]\n",
            " [-1 -1  9 10 11]]\n"
          ]
        }
      ],
      "source": [
        "from io import StringIO\n",
        "s = StringIO('''1, 2, 3, 4, 5\n",
        "                6,  ,  , 7, 8\n",
        "                 ,  , 9,10,11\n",
        "''')\n",
        "Z = np.genfromtxt(s, delimiter=\",\", dtype=int)\n",
        "print(Z)"
      ]
    },
    {
      "cell_type": "markdown",
      "metadata": {
        "id": "WiISn1ufvCq3"
      },
      "source": [
        "#### 55. What is the equivalent of enumerate for numpy arrays? (★★☆) \n",
        "(**hint**: np.ndenumerate, np.ndindex)"
      ]
    },
    {
      "cell_type": "code",
      "execution_count": null,
      "metadata": {
        "id": "IpPhNjnvvCq3",
        "colab": {
          "base_uri": "https://localhost:8080/"
        },
        "outputId": "be2b7c1b-2116-49e5-fa15-1d8b377d2478"
      },
      "outputs": [
        {
          "output_type": "stream",
          "name": "stdout",
          "text": [
            "(0, 0) 0\n",
            "(0, 1) 1\n",
            "(0, 2) 2\n",
            "(1, 0) 3\n",
            "(1, 1) 4\n",
            "(1, 2) 5\n",
            "(2, 0) 6\n",
            "(2, 1) 7\n",
            "(2, 2) 8\n",
            "(0, 0) 0\n",
            "(0, 1) 1\n",
            "(0, 2) 2\n",
            "(1, 0) 3\n",
            "(1, 1) 4\n",
            "(1, 2) 5\n",
            "(2, 0) 6\n",
            "(2, 1) 7\n",
            "(2, 2) 8\n"
          ]
        }
      ],
      "source": [
        "Z = np.arange(9).reshape(3,3)\n",
        "for index, value in np.ndenumerate(Z):\n",
        "    print(index, value)\n",
        "for index in np.ndindex(Z.shape):\n",
        "    print(index, Z[index])"
      ]
    },
    {
      "cell_type": "markdown",
      "metadata": {
        "id": "nWRTVc4nvCq3"
      },
      "source": [
        "#### 56. Generate a generic 2D Gaussian-like array (★★☆) \n",
        "(**hint**: np.meshgrid, np.exp)"
      ]
    },
    {
      "cell_type": "code",
      "execution_count": null,
      "metadata": {
        "id": "PSOro6mAvCq4",
        "colab": {
          "base_uri": "https://localhost:8080/"
        },
        "outputId": "f7db0fd5-eebb-457e-9308-5cc7c3e39c77"
      },
      "outputs": [
        {
          "output_type": "stream",
          "name": "stdout",
          "text": [
            "[[0.36787944 0.44822088 0.51979489 0.57375342 0.60279818 0.60279818\n",
            "  0.57375342 0.51979489 0.44822088 0.36787944]\n",
            " [0.44822088 0.54610814 0.63331324 0.69905581 0.73444367 0.73444367\n",
            "  0.69905581 0.63331324 0.54610814 0.44822088]\n",
            " [0.51979489 0.63331324 0.73444367 0.81068432 0.85172308 0.85172308\n",
            "  0.81068432 0.73444367 0.63331324 0.51979489]\n",
            " [0.57375342 0.69905581 0.81068432 0.89483932 0.9401382  0.9401382\n",
            "  0.89483932 0.81068432 0.69905581 0.57375342]\n",
            " [0.60279818 0.73444367 0.85172308 0.9401382  0.98773022 0.98773022\n",
            "  0.9401382  0.85172308 0.73444367 0.60279818]\n",
            " [0.60279818 0.73444367 0.85172308 0.9401382  0.98773022 0.98773022\n",
            "  0.9401382  0.85172308 0.73444367 0.60279818]\n",
            " [0.57375342 0.69905581 0.81068432 0.89483932 0.9401382  0.9401382\n",
            "  0.89483932 0.81068432 0.69905581 0.57375342]\n",
            " [0.51979489 0.63331324 0.73444367 0.81068432 0.85172308 0.85172308\n",
            "  0.81068432 0.73444367 0.63331324 0.51979489]\n",
            " [0.44822088 0.54610814 0.63331324 0.69905581 0.73444367 0.73444367\n",
            "  0.69905581 0.63331324 0.54610814 0.44822088]\n",
            " [0.36787944 0.44822088 0.51979489 0.57375342 0.60279818 0.60279818\n",
            "  0.57375342 0.51979489 0.44822088 0.36787944]]\n"
          ]
        }
      ],
      "source": [
        "X, Y = np.meshgrid(np.linspace(-1,1,10), np.linspace(-1,1,10))\n",
        "D = np.sqrt(X*X+Y*Y)\n",
        "sigma, mu = 1.0, 0.0\n",
        "G = np.exp(-( (D-mu)**2 / ( 2.0 * sigma**2 ) ) )\n",
        "print(G)"
      ]
    },
    {
      "cell_type": "markdown",
      "metadata": {
        "id": "hT8iN_JIvCq4"
      },
      "source": [
        "#### 57. How to randomly place p elements in a 2D array? (★★☆) \n",
        "(**hint**: np.put, np.random.choice)"
      ]
    },
    {
      "cell_type": "code",
      "execution_count": null,
      "metadata": {
        "id": "qNVSBqVbvCq4",
        "colab": {
          "base_uri": "https://localhost:8080/"
        },
        "outputId": "f59ba7f7-c2d5-42f1-cfe2-891b0758e170"
      },
      "outputs": [
        {
          "output_type": "stream",
          "name": "stdout",
          "text": [
            "[[0. 0. 0. 0. 0. 0. 0. 0. 0. 0.]\n",
            " [0. 0. 0. 0. 0. 0. 0. 0. 0. 0.]\n",
            " [0. 0. 0. 0. 0. 0. 0. 0. 0. 0.]\n",
            " [0. 0. 0. 0. 0. 0. 0. 0. 0. 0.]\n",
            " [0. 0. 0. 0. 0. 0. 0. 1. 0. 0.]\n",
            " [1. 0. 0. 0. 0. 0. 0. 0. 0. 0.]\n",
            " [0. 0. 0. 0. 0. 0. 0. 0. 0. 0.]\n",
            " [0. 0. 0. 0. 0. 0. 0. 0. 0. 0.]\n",
            " [0. 0. 0. 0. 0. 0. 0. 0. 0. 0.]\n",
            " [0. 0. 0. 0. 0. 0. 0. 1. 0. 0.]]\n"
          ]
        }
      ],
      "source": [
        "n = 10\n",
        "p = 3\n",
        "Z = np.zeros((n,n))\n",
        "np.put(Z, np.random.choice(range(n*n), p, replace=False),1)\n",
        "print(Z)"
      ]
    },
    {
      "cell_type": "markdown",
      "metadata": {
        "id": "MoUrSl3VvCq4"
      },
      "source": [
        "#### 58. Subtract the mean of each row of a matrix (★★☆) \n",
        "(**hint**: mean(axis=,keepdims=))"
      ]
    },
    {
      "cell_type": "code",
      "execution_count": null,
      "metadata": {
        "id": "FXTsXRO7vCq4",
        "colab": {
          "base_uri": "https://localhost:8080/"
        },
        "outputId": "1a386cc8-8fdd-4ad3-8e2f-582e3be928bd"
      },
      "outputs": [
        {
          "output_type": "stream",
          "name": "stdout",
          "text": [
            "[[-0.29123139  0.2308868   0.26780786  0.11164547 -0.40264406 -0.42290225\n",
            "  -0.09323575  0.02989363  0.2347393   0.33504038]\n",
            " [ 0.24830109 -0.00709239 -0.47637115  0.16168332  0.2675612  -0.37358025\n",
            "   0.10465465  0.0178274  -0.17214442  0.22916056]\n",
            " [ 0.34495807  0.10186888  0.27567063  0.10635153 -0.2656856  -0.43530757\n",
            "  -0.19008991 -0.22089488  0.41130769 -0.12817885]\n",
            " [ 0.31412995  0.29121328 -0.10823546 -0.46022866  0.18569495  0.33273454\n",
            "  -0.51612076  0.33241355 -0.04525571 -0.32634567]\n",
            " [ 0.25624125  0.08558687 -0.35618584 -0.32054112 -0.27321558 -0.09010383\n",
            "   0.29812967  0.45099521 -0.35533187  0.30442524]]\n"
          ]
        }
      ],
      "source": [
        "X = np.random.rand(5, 10)\n",
        "Y = X - X.mean(axis=1, keepdims=True)\n",
        "print(Y)\n"
      ]
    },
    {
      "cell_type": "markdown",
      "metadata": {
        "id": "Ds0Iw8WovCq4"
      },
      "source": [
        "#### 59. How to sort an array by the nth column? (★★☆) \n",
        "(**hint**: argsort)"
      ]
    },
    {
      "cell_type": "code",
      "execution_count": null,
      "metadata": {
        "id": "4tMPb4d-vCq5",
        "colab": {
          "base_uri": "https://localhost:8080/"
        },
        "outputId": "10ea8a3a-7cb6-405b-9800-c5d5febb7986"
      },
      "outputs": [
        {
          "output_type": "stream",
          "name": "stdout",
          "text": [
            "[[7 1 0]\n",
            " [0 9 2]\n",
            " [0 4 6]]\n",
            "[[7 1 0]\n",
            " [0 4 6]\n",
            " [0 9 2]]\n"
          ]
        }
      ],
      "source": [
        "Z = np.random.randint(0,10,(3,3))\n",
        "print(Z)\n",
        "print(Z[Z[:,1].argsort()])"
      ]
    },
    {
      "cell_type": "markdown",
      "metadata": {
        "id": "hxI2s3vKvCq5"
      },
      "source": [
        "#### 60. How to tell if a given 2D array has null columns? (★★☆) \n",
        "(**hint**: any, ~)"
      ]
    },
    {
      "cell_type": "code",
      "execution_count": null,
      "metadata": {
        "id": "0TkcWlrGvCq5",
        "colab": {
          "base_uri": "https://localhost:8080/"
        },
        "outputId": "61458683-ecc3-4fd0-ad2f-04d6b0f4f68f"
      },
      "outputs": [
        {
          "output_type": "stream",
          "name": "stdout",
          "text": [
            "[[0 1 2 1 1 1 1 0 2 1]\n",
            " [1 0 2 2 0 0 2 1 1 1]\n",
            " [1 0 1 0 2 1 2 1 0 2]\n",
            " [1 2 2 0 1 1 2 0 0 2]]\n",
            "False\n"
          ]
        }
      ],
      "source": [
        "import numpy as np\n",
        "nums = np.random.randint(0,3,(4,10))\n",
        "print(nums)\n",
        "print((~nums.any(axis=0)).any())"
      ]
    },
    {
      "cell_type": "markdown",
      "metadata": {
        "id": "4ltmYyURvCq5"
      },
      "source": [
        "#### 61. Find the nearest value from a given value in an array (★★☆) \n",
        "(**hint**: np.abs, argmin, flat)"
      ]
    },
    {
      "cell_type": "code",
      "execution_count": null,
      "metadata": {
        "id": "UlzeaBfyvCq5",
        "colab": {
          "base_uri": "https://localhost:8080/"
        },
        "outputId": "523dbb6d-9cce-4de3-e512-383563950089"
      },
      "outputs": [
        {
          "output_type": "stream",
          "name": "stdout",
          "text": [
            "0.5833267031455606\n"
          ]
        }
      ],
      "source": [
        "Z = np.random.uniform(0,1,10)\n",
        "z = 0.5\n",
        "m = Z.flat[np.abs(Z - z).argmin()]\n",
        "print(m)"
      ]
    },
    {
      "cell_type": "markdown",
      "metadata": {
        "id": "t4BTHXUdvCq5"
      },
      "source": [
        "#### 62. Considering two arrays with shape (1,3) and (3,1), how to compute their sum using an iterator? (★★☆) \n",
        "(**hint**: np.nditer)"
      ]
    },
    {
      "cell_type": "code",
      "execution_count": null,
      "metadata": {
        "id": "i2wrfeLivCq5",
        "colab": {
          "base_uri": "https://localhost:8080/"
        },
        "outputId": "f7dbe919-ef63-4156-e953-7ad285919b5b"
      },
      "outputs": [
        {
          "output_type": "stream",
          "name": "stdout",
          "text": [
            "[[0 1 2]\n",
            " [1 2 3]\n",
            " [2 3 4]]\n"
          ]
        }
      ],
      "source": [
        "A = np.arange(3).reshape(3,1)\n",
        "B = np.arange(3).reshape(1,3)\n",
        "it = np.nditer([A,B,None])\n",
        "for x,y,z in it: z[...] = x + y\n",
        "print(it.operands[2])"
      ]
    },
    {
      "cell_type": "markdown",
      "metadata": {
        "id": "MhIwp0hvvCq6"
      },
      "source": [
        "#### 63. Create an array class that has a name attribute (★★☆) \n",
        "(**hint**: class method)"
      ]
    },
    {
      "cell_type": "code",
      "execution_count": null,
      "metadata": {
        "id": "ov0JLw2SvCq6",
        "colab": {
          "base_uri": "https://localhost:8080/"
        },
        "outputId": "b4bfc401-f2c7-4502-dd42-595b11980b6d"
      },
      "outputs": [
        {
          "output_type": "stream",
          "name": "stdout",
          "text": [
            "range_10\n"
          ]
        }
      ],
      "source": [
        "class NamedArray(np.ndarray):\n",
        "    def __new__(cls, array, name=\"no name\"):\n",
        "        obj = np.asarray(array).view(cls)\n",
        "        obj.name = name\n",
        "        return obj\n",
        "    def __array_finalize__(self, obj):\n",
        "        if obj is None: return\n",
        "        self.name = getattr(obj, 'name', \"no name\")\n",
        "Z = NamedArray(np.arange(10), \"range_10\")\n",
        "print (Z.name)"
      ]
    },
    {
      "cell_type": "markdown",
      "metadata": {
        "id": "sd2RSvW5vCq6"
      },
      "source": [
        "#### 64. Consider a given vector, how to add 1 to each element indexed by a second vector (be careful with repeated indices)? (★★★) \n",
        "(**hint**: np.bincount | np.add.at)"
      ]
    },
    {
      "cell_type": "code",
      "execution_count": null,
      "metadata": {
        "id": "h_yMOxqIvCq6",
        "colab": {
          "base_uri": "https://localhost:8080/"
        },
        "outputId": "655dba51-ba6b-4064-e0bd-06f79feb91c6"
      },
      "outputs": [
        {
          "output_type": "stream",
          "name": "stdout",
          "text": [
            "[4. 2. 3. 2. 2. 6. 4. 2. 3. 2.]\n",
            "[ 7.  3.  5.  3.  3. 11.  7.  3.  5.  3.]\n"
          ]
        }
      ],
      "source": [
        "Z = np.ones(10)\n",
        "I = np.random.randint(0,len(Z),20)\n",
        "Z += np.bincount(I, minlength=len(Z))\n",
        "print(Z)\n",
        "# Another solution\n",
        "np.add.at(Z, I, 1)\n",
        "print(Z)"
      ]
    },
    {
      "cell_type": "markdown",
      "metadata": {
        "id": "TChrtmLfvCq6"
      },
      "source": [
        "#### 65. How to accumulate elements of a vector (X) to an array (F) based on an index list (I)? (★★★) \n",
        "(**hint**: np.bincount)"
      ]
    },
    {
      "cell_type": "code",
      "execution_count": null,
      "metadata": {
        "id": "7ptANAK7vCq6",
        "colab": {
          "base_uri": "https://localhost:8080/"
        },
        "outputId": "00e73820-56c7-4a27-89d3-72251e3b9a6c"
      },
      "outputs": [
        {
          "output_type": "stream",
          "name": "stdout",
          "text": [
            "[0. 7. 0. 6. 5. 0. 0. 0. 0. 3.]\n"
          ]
        }
      ],
      "source": [
        "X = [1,2,3,4,5,6]\n",
        "I = [1,3,9,3,4,1]\n",
        "F = np.bincount(I,X)\n",
        "print(F)"
      ]
    },
    {
      "cell_type": "markdown",
      "metadata": {
        "id": "UeEWiBwEvCq6"
      },
      "source": [
        "#### 66. Considering a (w,h,3) image of (dtype=ubyte), compute the number of unique colors (★★★) \n",
        "(**hint**: np.unique)"
      ]
    },
    {
      "cell_type": "code",
      "execution_count": null,
      "metadata": {
        "id": "T5Iu6KKuvCq6",
        "colab": {
          "base_uri": "https://localhost:8080/"
        },
        "outputId": "6c2021bb-4624-4dab-8a2a-0e02cba56525"
      },
      "outputs": [
        {
          "output_type": "stream",
          "name": "stdout",
          "text": [
            "64\n"
          ]
        }
      ],
      "source": [
        "w, h = 256, 256\n",
        "I = np.random.randint(0, 4, (h, w, 3)).astype(np.ubyte)\n",
        "colors = np.unique(I.reshape(-1, 3), axis=0)\n",
        "n = len(colors)\n",
        "print(n)"
      ]
    },
    {
      "cell_type": "markdown",
      "metadata": {
        "id": "cB0iFNRXvCq7"
      },
      "source": [
        "#### 67. Considering a four dimensions array, how to get sum over the last two axis at once? (★★★) \n",
        "(**hint**: sum(axis=(-2,-1)))"
      ]
    },
    {
      "cell_type": "code",
      "execution_count": null,
      "metadata": {
        "id": "BF4U-5fqvCq7",
        "colab": {
          "base_uri": "https://localhost:8080/"
        },
        "outputId": "5c7490d2-91bf-413a-a6f8-f5cf021f396e"
      },
      "outputs": [
        {
          "output_type": "stream",
          "name": "stdout",
          "text": [
            "[[52 59 55 64]\n",
            " [48 55 74 56]\n",
            " [59 75 50 55]]\n",
            "[[52 59 55 64]\n",
            " [48 55 74 56]\n",
            " [59 75 50 55]]\n"
          ]
        }
      ],
      "source": [
        "A = np.random.randint(0,10,(3,4,3,4))\n",
        "sum = A.sum(axis=(-2,-1))\n",
        "print(sum)\n",
        "sum = A.reshape(A.shape[:-2] + (-1,)).sum(axis=-1)\n",
        "print(sum)"
      ]
    },
    {
      "cell_type": "markdown",
      "metadata": {
        "id": "8R8dZ2oevCq7"
      },
      "source": [
        "#### 68. Considering a one-dimensional vector D, how to compute means of subsets of D using a vector S of same size describing subset  indices? (★★★) \n",
        "(**hint**: np.bincount)"
      ]
    },
    {
      "cell_type": "code",
      "execution_count": null,
      "metadata": {
        "id": "qNMH-TvvvCq7",
        "colab": {
          "base_uri": "https://localhost:8080/"
        },
        "outputId": "e4e5da7c-13d4-4a97-8fd0-83f198829f21"
      },
      "outputs": [
        {
          "output_type": "stream",
          "name": "stdout",
          "text": [
            "[0.54580272 0.61451377 0.36141923 0.5683555  0.46841158 0.62017966\n",
            " 0.57291992 0.57973366 0.52181657 0.43309836]\n"
          ]
        }
      ],
      "source": [
        "D = np.random.uniform(0,1,100)\n",
        "S = np.random.randint(0,10,100)\n",
        "D_sums = np.bincount(S, weights=D)\n",
        "D_counts = np.bincount(S)\n",
        "D_means = D_sums / D_counts\n",
        "print(D_means)"
      ]
    },
    {
      "cell_type": "markdown",
      "metadata": {
        "id": "VzhTvS0CvCq7"
      },
      "source": [
        "#### 69. How to get the diagonal of a dot product? (★★★) \n",
        "(**hint**: np.diag)"
      ]
    },
    {
      "cell_type": "code",
      "execution_count": null,
      "metadata": {
        "id": "Ywr7O62RvCq7",
        "colab": {
          "base_uri": "https://localhost:8080/"
        },
        "outputId": "f2d14417-12b3-4ea7-93fc-a8f7a1a7bdef"
      },
      "outputs": [
        {
          "output_type": "execute_result",
          "data": {
            "text/plain": [
              "array([2.15519477, 0.97885211, 1.09709476, 1.36270771, 1.55128518])"
            ]
          },
          "metadata": {},
          "execution_count": 25
        }
      ],
      "source": [
        "A = np.random.uniform(0,1,(5,5))\n",
        "B = np.random.uniform(0,1,(5,5))\n",
        "np.diag(np.dot(A, B))"
      ]
    },
    {
      "cell_type": "markdown",
      "metadata": {
        "id": "PmuS9MaOvCq7"
      },
      "source": [
        "#### 70. Consider the vector \\[1, 2, 3, 4, 5\\], how to build a new vector with 3 consecutive zeros interleaved between each value? (★★★) \n",
        "(**hint**: array\\[::4\\])"
      ]
    },
    {
      "cell_type": "code",
      "execution_count": null,
      "metadata": {
        "id": "89GuU-rmvCq7",
        "colab": {
          "base_uri": "https://localhost:8080/"
        },
        "outputId": "d46fa52f-f0b1-437b-8e4e-8350c815c844"
      },
      "outputs": [
        {
          "output_type": "stream",
          "name": "stdout",
          "text": [
            "[1. 0. 0. 0. 2. 0. 0. 0. 3. 0. 0. 0. 4. 0. 0. 0. 5.]\n"
          ]
        }
      ],
      "source": [
        "import numpy as np\n",
        "Z = np.array([1,2,3,4,5],dtype=int)\n",
        "nz = 3\n",
        "Z0 = np.zeros(len(Z) + (len(Z)-1)*(nz))\n",
        "Z0[::nz+1] = Z\n",
        "print(Z0)"
      ]
    },
    {
      "cell_type": "markdown",
      "metadata": {
        "id": "f_K-vMrkvCq8"
      },
      "source": [
        "#### 71. Consider an array of dimension (5,5,3), how to mulitply it by an array with dimensions (5,5)? (★★★) \n",
        "(**hint**: array\\[:, :, None\\])"
      ]
    },
    {
      "cell_type": "code",
      "execution_count": null,
      "metadata": {
        "collapsed": true,
        "id": "rCfQ4x3AvCq8",
        "colab": {
          "base_uri": "https://localhost:8080/"
        },
        "outputId": "51c80fc5-598c-437f-bd96-f3fe7f20e5a5"
      },
      "outputs": [
        {
          "output_type": "stream",
          "name": "stdout",
          "text": [
            "[[[1. 1. 1.]\n",
            "  [1. 1. 1.]\n",
            "  [1. 1. 1.]\n",
            "  [1. 1. 1.]\n",
            "  [1. 1. 1.]]\n",
            "\n",
            " [[1. 1. 1.]\n",
            "  [1. 1. 1.]\n",
            "  [1. 1. 1.]\n",
            "  [1. 1. 1.]\n",
            "  [1. 1. 1.]]\n",
            "\n",
            " [[1. 1. 1.]\n",
            "  [1. 1. 1.]\n",
            "  [1. 1. 1.]\n",
            "  [1. 1. 1.]\n",
            "  [1. 1. 1.]]\n",
            "\n",
            " [[1. 1. 1.]\n",
            "  [1. 1. 1.]\n",
            "  [1. 1. 1.]\n",
            "  [1. 1. 1.]\n",
            "  [1. 1. 1.]]\n",
            "\n",
            " [[1. 1. 1.]\n",
            "  [1. 1. 1.]\n",
            "  [1. 1. 1.]\n",
            "  [1. 1. 1.]\n",
            "  [1. 1. 1.]]]\n",
            "[[[3. 3. 3.]\n",
            "  [3. 3. 3.]\n",
            "  [3. 3. 3.]\n",
            "  [3. 3. 3.]\n",
            "  [3. 3. 3.]]\n",
            "\n",
            " [[3. 3. 3.]\n",
            "  [3. 3. 3.]\n",
            "  [3. 3. 3.]\n",
            "  [3. 3. 3.]\n",
            "  [3. 3. 3.]]\n",
            "\n",
            " [[3. 3. 3.]\n",
            "  [3. 3. 3.]\n",
            "  [3. 3. 3.]\n",
            "  [3. 3. 3.]\n",
            "  [3. 3. 3.]]\n",
            "\n",
            " [[3. 3. 3.]\n",
            "  [3. 3. 3.]\n",
            "  [3. 3. 3.]\n",
            "  [3. 3. 3.]\n",
            "  [3. 3. 3.]]\n",
            "\n",
            " [[3. 3. 3.]\n",
            "  [3. 3. 3.]\n",
            "  [3. 3. 3.]\n",
            "  [3. 3. 3.]\n",
            "  [3. 3. 3.]]]\n"
          ]
        }
      ],
      "source": [
        "import numpy as np\n",
        "nums1 = np.ones((5,5,3))\n",
        "nums2 = 3*np.ones((5,5))\n",
        "print(nums1)\n",
        "new_array = nums1 * nums2[:,:,None]\n",
        "print(new_array)"
      ]
    },
    {
      "cell_type": "markdown",
      "metadata": {
        "id": "DsPHWxzfvCq8"
      },
      "source": [
        "#### 72. How to swap two rows of an array? (★★★) \n",
        "(**hint**: array\\[\\[\\]\\] = array\\[\\[\\]\\])"
      ]
    },
    {
      "cell_type": "code",
      "execution_count": null,
      "metadata": {
        "id": "H0YTEr7ovCq8",
        "colab": {
          "base_uri": "https://localhost:8080/"
        },
        "outputId": "1a1c3d10-65d6-4d99-f2b5-5411e6d65e43"
      },
      "outputs": [
        {
          "output_type": "stream",
          "name": "stdout",
          "text": [
            "[[ 1  2  3  4  5  6]\n",
            " [ 7  8  9 10 11 12]]\n",
            "[[ 7  8  9 10 11 12]\n",
            " [ 1  2  3  4  5  6]]\n"
          ]
        }
      ],
      "source": [
        "import numpy as np\n",
        "my_array = np.array([[1, 2, 3, 4, 5, 6],\n",
        "                     [7, 8, 9, 10, 11, 12]])\n",
        "print(my_array)\n",
        "my_array[[0, 1]] = my_array[[1, 0]]\n",
        "print(my_array)\n"
      ]
    },
    {
      "cell_type": "markdown",
      "metadata": {
        "id": "ain7QGS-vCq8"
      },
      "source": [
        "#### 73. Consider a set of 10 triplets describing 10 triangles (with shared vertices), find the set of unique line segments composing all the  triangles (★★★) \n",
        "(**hint**: repeat, np.roll, np.sort, view, np.unique)"
      ]
    },
    {
      "cell_type": "code",
      "execution_count": null,
      "metadata": {
        "id": "PdC9-igMvCq8",
        "colab": {
          "base_uri": "https://localhost:8080/"
        },
        "outputId": "bac27286-3ba8-4b7d-dec6-89d54b2b1359"
      },
      "outputs": [
        {
          "output_type": "stream",
          "name": "stdout",
          "text": [
            "[( 3, 51) ( 3, 87) ( 6, 60) ( 6, 79) ( 8, 10) ( 8, 30) ( 9,  9) ( 9, 52)\n",
            " (10, 30) (26, 42) (26, 70) (40, 50) (40, 70) (40, 81) (40, 92) (42, 70)\n",
            " (50, 78) (50, 82) (50, 92) (51, 87) (53, 53) (53, 70) (60, 79) (70, 81)\n",
            " (76, 80) (76, 96) (78, 82) (80, 96)]\n"
          ]
        }
      ],
      "source": [
        "faces = np.random.randint(0,100,(10,3))\n",
        "F = np.roll(faces.repeat(2,axis=1),-1,axis=1)\n",
        "F = F.reshape(len(F)*3,2)\n",
        "F = np.sort(F,axis=1)\n",
        "G = F.view( dtype=[('p0',F.dtype),('p1',F.dtype)] )\n",
        "G = np.unique(G)\n",
        "print(G)"
      ]
    },
    {
      "cell_type": "markdown",
      "metadata": {
        "id": "DbZzJfjkvCq8"
      },
      "source": [
        "#### 74. Given an array C that is a bincount, how to produce an array A such that np.bincount(A) == C? (★★★) \n",
        "(**hint**: np.repeat)"
      ]
    },
    {
      "cell_type": "code",
      "execution_count": null,
      "metadata": {
        "id": "CItCN8hRvCq9",
        "colab": {
          "base_uri": "https://localhost:8080/"
        },
        "outputId": "1ef429c3-67de-448a-c0c9-06f668ee53ff"
      },
      "outputs": [
        {
          "output_type": "stream",
          "name": "stdout",
          "text": [
            "[1 1 2 3 4 4 6]\n"
          ]
        }
      ],
      "source": [
        "C = np.bincount([1,1,2,3,4,4,6])\n",
        "A = np.repeat(np.arange(len(C)), C)\n",
        "print(A)"
      ]
    },
    {
      "cell_type": "markdown",
      "metadata": {
        "id": "7q7SeFwCvCq9"
      },
      "source": [
        "#### 75. How to compute averages using a sliding window over an array? (★★★) \n",
        "(**hint**: np.cumsum)"
      ]
    },
    {
      "cell_type": "code",
      "execution_count": null,
      "metadata": {
        "id": "MvPnyuFCvCq9",
        "colab": {
          "base_uri": "https://localhost:8080/"
        },
        "outputId": "50a0eacb-71a3-4266-aa90-9296b7d9d1c3"
      },
      "outputs": [
        {
          "output_type": "stream",
          "name": "stdout",
          "text": [
            "[ 1.  2.  3.  4.  5.  6.  7.  8.  9. 10. 11. 12. 13. 14. 15. 16. 17. 18.]\n"
          ]
        }
      ],
      "source": [
        "def moving_average(a, n=3) :\n",
        "    ret = np.cumsum(a, dtype=float)\n",
        "    ret[n:] = ret[n:] - ret[:-n]\n",
        "    return ret[n - 1:] / n\n",
        "Z = np.arange(20)\n",
        "print(moving_average(Z, n=3))\n"
      ]
    },
    {
      "cell_type": "markdown",
      "metadata": {
        "id": "sAkObSzYvCq9"
      },
      "source": [
        "#### 76. Consider a one-dimensional array Z, build a two-dimensional array whose first row is (Z\\[0\\],Z\\[1\\],Z\\[2\\]) and each subsequent row is  shifted by 1 (last row should be (Z\\[-3\\],Z\\[-2\\],Z\\[-1\\]) (★★★) \n",
        "(**hint**: from numpy.lib import stride_tricks)"
      ]
    },
    {
      "cell_type": "code",
      "execution_count": null,
      "metadata": {
        "id": "vw_A0Q55vCq9",
        "colab": {
          "base_uri": "https://localhost:8080/"
        },
        "outputId": "f73b5f1a-6e2a-4c75-a280-23489df52cac"
      },
      "outputs": [
        {
          "output_type": "stream",
          "name": "stdout",
          "text": [
            "[[0 1 2]\n",
            " [1 2 3]\n",
            " [2 3 4]\n",
            " [3 4 5]\n",
            " [4 5 6]\n",
            " [5 6 7]\n",
            " [6 7 8]\n",
            " [7 8 9]]\n"
          ]
        }
      ],
      "source": [
        "from numpy.lib import stride_tricks\n",
        "\n",
        "def rolling(a, window):\n",
        "    shape = (a.size - window + 1, window)\n",
        "    strides = (a.itemsize, a.itemsize)\n",
        "    return stride_tricks.as_strided(a, shape=shape, strides=strides)\n",
        "\n",
        "Z = rolling(np.arange(10), 3)\n",
        "print(Z)"
      ]
    },
    {
      "cell_type": "markdown",
      "metadata": {
        "id": "prgMlH5LvCq9"
      },
      "source": [
        "#### 77. How to negate a boolean, or to change the sign of a float inplace? (★★★) \n",
        "(**hint**: np.logical_not, np.negative)"
      ]
    },
    {
      "cell_type": "code",
      "execution_count": null,
      "metadata": {
        "id": "NnHTKjwwvCq9",
        "colab": {
          "base_uri": "https://localhost:8080/"
        },
        "outputId": "cb16adb1-ee8e-4254-fe75-8a486de4eff0"
      },
      "outputs": [
        {
          "output_type": "execute_result",
          "data": {
            "text/plain": [
              "array([-0.02799508,  0.2152954 ,  0.79027607,  0.34158886,  0.09718958,\n",
              "       -0.58091019, -0.38211492,  0.88589566,  0.40025725, -0.99769692,\n",
              "        0.78793362,  0.10857867,  0.96876368,  0.42287256, -0.12398455,\n",
              "        0.42785397, -0.81804515, -0.26101939, -0.80847135, -0.7368692 ,\n",
              "       -0.49190946, -0.41387834,  0.7285404 , -0.85184388,  0.08410037,\n",
              "       -0.05515258,  0.84536493, -0.28526398,  0.40489749,  0.74088061,\n",
              "       -0.07891811,  0.9348585 , -0.07410674,  0.97714385, -0.98621726,\n",
              "       -0.63435188, -0.33258681, -0.53972075, -0.46860108, -0.42950108,\n",
              "        0.26785323,  0.88658344, -0.86231014,  0.9241223 ,  0.96284587,\n",
              "       -0.44380816, -0.83298281, -0.14696443,  0.7600806 , -0.56272503,\n",
              "        0.84913134,  0.52552967,  0.54987769,  0.84323903, -0.50997881,\n",
              "        0.94139515, -0.32204664, -0.61258793,  0.02984906, -0.07701492,\n",
              "        0.39284289,  0.90535641, -0.91797227,  0.77332273, -0.24994837,\n",
              "       -0.81180204, -0.69835498,  0.69376312,  0.42121379, -0.29833494,\n",
              "        0.74458038,  0.30288382, -0.43585601,  0.14911761, -0.79238553,\n",
              "        0.88193848, -0.87716047,  0.21740185,  0.53662253,  0.49346177,\n",
              "       -0.67282589, -0.34305563, -0.5442132 ,  0.11516278,  0.10778831,\n",
              "       -0.91038562,  0.92850904, -0.10827227, -0.59998703, -0.35590596,\n",
              "        0.18415509, -0.97795984, -0.07056735,  0.40795557, -0.3261314 ,\n",
              "       -0.18557123, -0.3799105 ,  0.4728905 , -0.78405257, -0.4971346 ])"
            ]
          },
          "metadata": {},
          "execution_count": 14
        }
      ],
      "source": [
        "Z = np.random.randint(0,2,100)\n",
        "np.logical_not(Z, out=Z)\n",
        "Z = np.random.uniform(-1.0,1.0,100)\n",
        "np.negative(Z, out=Z)"
      ]
    },
    {
      "cell_type": "markdown",
      "metadata": {
        "id": "NI56VDoRvCq-"
      },
      "source": [
        "#### 78. Consider 2 sets of points P0,P1 describing lines (2d) and a point p, how to compute distance from p to each line i  (P0\\[i\\],P1\\[i\\])? (★★★)"
      ]
    },
    {
      "cell_type": "code",
      "execution_count": null,
      "metadata": {
        "id": "Xh5HGizGvCq-",
        "colab": {
          "base_uri": "https://localhost:8080/"
        },
        "outputId": "b11a212b-cdeb-4032-f010-766e8c171246"
      },
      "outputs": [
        {
          "output_type": "stream",
          "name": "stdout",
          "text": [
            "[2.9819159  0.86460647 5.63836959 7.21523189 0.54880074 7.18538969\n",
            " 3.87727161 2.30162594 3.06651206 8.05256915]\n"
          ]
        }
      ],
      "source": [
        "def distance(P0, P1, p):\n",
        "    T = P1 - P0\n",
        "    L = (T**2).sum(axis=1)\n",
        "    U = -((P0[:,0]-p[...,0])*T[:,0] + (P0[:,1]-p[...,1])*T[:,1]) / L\n",
        "    U = U.reshape(len(U),1)\n",
        "    D = P0 + U*T - p\n",
        "    return np.sqrt((D**2).sum(axis=1))\n",
        "P0 = np.random.uniform(-10,10,(10,2))\n",
        "P1 = np.random.uniform(-10,10,(10,2))\n",
        "p  = np.random.uniform(-10,10,( 1,2))\n",
        "print(distance(P0, P1, p))"
      ]
    },
    {
      "cell_type": "markdown",
      "metadata": {
        "id": "gkXv2_9KvCq-"
      },
      "source": [
        "#### 79. Consider 2 sets of points P0,P1 describing lines (2d) and a set of points P, how to compute distance from each point j (P\\[j\\]) to each line i (P0\\[i\\],P1\\[i\\])? (★★★)"
      ]
    },
    {
      "cell_type": "code",
      "execution_count": null,
      "metadata": {
        "id": "Me-pKAsZvCq-",
        "colab": {
          "base_uri": "https://localhost:8080/"
        },
        "outputId": "11a5c563-a268-4f09-a5b6-11b4e6ef1a2b"
      },
      "outputs": [
        {
          "output_type": "stream",
          "name": "stdout",
          "text": [
            "[[7.44703699e+00 1.53889619e+00 1.72808278e-01 3.09572528e+00\n",
            "  2.47875170e+00 2.08324197e+00 1.43347005e+01 7.61056408e+00\n",
            "  4.07916462e+00 1.14286180e+01]\n",
            " [2.43981046e+00 7.70903370e+00 1.25327192e+01 4.33024878e+00\n",
            "  1.02138057e+01 5.25378464e+00 7.46513861e+00 8.63210655e-04\n",
            "  1.32122661e+01 3.30023845e+00]\n",
            " [9.25866524e-01 2.54262797e+00 3.66539469e+00 6.46792619e+00\n",
            "  1.41484737e+00 3.34098184e+00 7.21884769e+00 5.66337234e-01\n",
            "  1.86540113e+00 4.45902032e+00]\n",
            " [1.45531430e+00 6.74067611e+00 3.55808918e+00 1.04464980e+01\n",
            "  1.34901292e+00 7.81811859e+00 3.76188721e+00 2.67851115e+00\n",
            "  1.67939236e+00 1.37985604e+00]\n",
            " [1.18969604e+00 1.28174518e+01 7.70516295e-02 1.66433091e+01\n",
            "  2.23940424e+00 1.33532644e+01 2.07201093e+00 3.94254868e+00\n",
            "  7.89853539e+00 4.31959429e-01]\n",
            " [6.96537121e+00 1.88397950e+00 1.35288089e+01 1.04623854e+00\n",
            "  1.12718175e+01 1.26966430e+00 1.57791390e+00 5.63113263e+00\n",
            "  8.65162424e+00 2.12696877e+00]\n",
            " [6.47500178e-01 4.51710866e+00 4.03993285e+00 8.28571735e+00\n",
            "  1.81051596e+00 5.56222022e+00 5.18814998e+00 1.37910698e+00\n",
            "  3.31046933e-01 2.58218278e+00]\n",
            " [4.97343241e+00 4.50285266e+00 1.22084803e+00 8.93401677e+00\n",
            "  3.47052424e+00 4.11733351e+00 1.02105781e+01 3.82221720e+00\n",
            "  1.30182079e+00 7.89831651e+00]\n",
            " [5.08973349e+00 8.23823060e+00 3.41132908e+00 1.27376415e+01\n",
            "  5.63211602e+00 7.53173800e+00 9.12988128e+00 3.00177915e+00\n",
            "  5.11094539e+00 7.27124390e+00]\n",
            " [4.09326066e+00 1.34340933e+01 2.30096389e+00 1.69265942e+01\n",
            "  1.53856615e-01 1.46613946e+01 7.15595735e-01 6.78072265e+00\n",
            "  7.67080363e+00 2.43437097e+00]]\n"
          ]
        }
      ],
      "source": [
        "P0 = np.random.uniform(-10, 10, (10,2))\n",
        "P1 = np.random.uniform(-10,10,(10,2))\n",
        "p = np.random.uniform(-10, 10, (10,2))\n",
        "print(np.array([distance(P0,P1,p_i) for p_i in p]))"
      ]
    },
    {
      "cell_type": "markdown",
      "metadata": {
        "id": "sZvo453ivCq-"
      },
      "source": [
        "#### 80. Consider an arbitrary array, write a function that extract a subpart with a fixed shape and centered on a given element (pad with a `fill` value when necessary) (★★★) \n",
        "(**hint**: minimum, maximum)"
      ]
    },
    {
      "cell_type": "code",
      "execution_count": null,
      "metadata": {
        "id": "IIeOYMb1vCq-",
        "colab": {
          "base_uri": "https://localhost:8080/"
        },
        "outputId": "3e0fe888-629b-47fd-f813-f11c092752bd"
      },
      "outputs": [
        {
          "output_type": "stream",
          "name": "stdout",
          "text": [
            "[[7 2 7 7 4 4 5 5 5 9]\n",
            " [8 1 5 0 4 3 4 4 1 7]\n",
            " [7 3 6 7 2 1 1 7 7 6]\n",
            " [5 7 5 0 8 0 1 5 9 5]\n",
            " [1 6 0 1 9 6 6 8 1 8]\n",
            " [7 0 5 3 8 4 8 2 7 7]\n",
            " [4 3 7 6 1 2 4 9 4 2]\n",
            " [6 3 6 8 8 1 5 8 7 8]\n",
            " [6 2 4 8 0 8 8 6 7 8]\n",
            " [0 2 8 9 4 3 6 2 8 0]]\n",
            "[[0 0 0 0 0]\n",
            " [0 7 2 7 7]\n",
            " [0 8 1 5 0]\n",
            " [0 7 3 6 7]\n",
            " [0 5 7 5 0]]\n"
          ]
        },
        {
          "output_type": "stream",
          "name": "stderr",
          "text": [
            "/usr/local/lib/python3.7/dist-packages/ipykernel_launcher.py:23: FutureWarning: Using a non-tuple sequence for multidimensional indexing is deprecated; use `arr[tuple(seq)]` instead of `arr[seq]`. In the future this will be interpreted as an array index, `arr[np.array(seq)]`, which will result either in an error or a different result.\n"
          ]
        }
      ],
      "source": [
        "Z = np.random.randint(0,10,(10,10))\n",
        "shape = (5,5)\n",
        "fill  = 0\n",
        "position = (1,1)\n",
        "\n",
        "R = np.ones(shape, dtype=Z.dtype)*fill\n",
        "P  = np.array(list(position)).astype(int)\n",
        "Rs = np.array(list(R.shape)).astype(int)\n",
        "Zs = np.array(list(Z.shape)).astype(int)\n",
        "\n",
        "R_start = np.zeros((len(shape),)).astype(int)\n",
        "R_stop  = np.array(list(shape)).astype(int)\n",
        "Z_start = (P-Rs//2)\n",
        "Z_stop  = (P+Rs//2)+Rs%2\n",
        "\n",
        "R_start = (R_start - np.minimum(Z_start,0)).tolist()\n",
        "Z_start = (np.maximum(Z_start,0)).tolist()\n",
        "R_stop = np.maximum(R_start, (R_stop - np.maximum(Z_stop-Zs,0))).tolist()\n",
        "Z_stop = (np.minimum(Z_stop,Zs)).tolist()\n",
        "\n",
        "r = [slice(start,stop) for start,stop in zip(R_start,R_stop)]\n",
        "z = [slice(start,stop) for start,stop in zip(Z_start,Z_stop)]\n",
        "R[r] = Z[z]\n",
        "print(Z)\n",
        "print(R)"
      ]
    },
    {
      "cell_type": "markdown",
      "metadata": {
        "id": "gJ6th9wzvCq-"
      },
      "source": [
        "#### 81. Consider an array Z = \\[1,2,3,4,5,6,7,8,9,10,11,12,13,14\\], how to generate an array R = \\[\\[1,2,3,4\\], \\[2,3,4,5\\], \\[3,4,5,6\\], ..., \\[11,12,13,14\\]\\]? (★★★) \n",
        "(**hint**: stride\\_tricks.as\\_strided)"
      ]
    },
    {
      "cell_type": "code",
      "execution_count": 6,
      "metadata": {
        "id": "v05ddHYBvCq-",
        "colab": {
          "base_uri": "https://localhost:8080/"
        },
        "outputId": "31327149-b51f-4451-b528-f8ef1b7b2bf5"
      },
      "outputs": [
        {
          "output_type": "stream",
          "name": "stdout",
          "text": [
            "[[ 1  2  3  4]\n",
            " [ 2  3  4  5]\n",
            " [ 3  4  5  6]\n",
            " [ 4  5  6  7]\n",
            " [ 5  6  7  8]\n",
            " [ 6  7  8  9]\n",
            " [ 7  8  9 10]\n",
            " [ 8  9 10 11]\n",
            " [ 9 10 11 12]\n",
            " [10 11 12 13]\n",
            " [11 12 13 14]]\n"
          ]
        }
      ],
      "source": [
        "import numpy as np\n",
        "Z = np.arange(1, 15, dtype=np.uint32)\n",
        "print(np.lib.stride_tricks.sliding_window_view(Z, window_shape=4))"
      ]
    },
    {
      "cell_type": "markdown",
      "metadata": {
        "id": "SrzfZ_XrvCq_"
      },
      "source": [
        "#### 82. Compute a matrix rank (★★★) \n",
        "(**hint**: np.linalg.svd) (suggestion: np.linalg.svd)"
      ]
    },
    {
      "cell_type": "code",
      "execution_count": null,
      "metadata": {
        "id": "pfM49ju2vCrA",
        "colab": {
          "base_uri": "https://localhost:8080/"
        },
        "outputId": "05848223-6510-4d27-a401-3062dfd8816d"
      },
      "outputs": [
        {
          "output_type": "stream",
          "name": "stdout",
          "text": [
            "Matrix\n",
            "[1 2 1]\n",
            "[3 4 7]\n",
            "[3 6 3]\n",
            "Rank of the given Matrix is :  2\n"
          ]
        }
      ],
      "source": [
        "import numpy as np\n",
        "my_matrix = np.array([[1, 2, 1], [3, 4, 7], [3, 6, 3]])\n",
        "print(\"Matrix\")\n",
        "for row in my_matrix:\n",
        "    print(row)\n",
        "rank = np.linalg.matrix_rank(my_matrix)\n",
        "print(\"Rank of the given Matrix is : \",rank)"
      ]
    },
    {
      "cell_type": "markdown",
      "metadata": {
        "id": "wo6_xVyOvCrA"
      },
      "source": [
        "#### 83. How to find the most frequent value in an array? \n",
        "(**hint**: np.bincount, argmax)"
      ]
    },
    {
      "cell_type": "code",
      "execution_count": null,
      "metadata": {
        "id": "n4CvyQEgvCrD",
        "colab": {
          "base_uri": "https://localhost:8080/"
        },
        "outputId": "2365ae17-0237-4f8a-b85b-2d109df3d72a"
      },
      "outputs": [
        {
          "output_type": "stream",
          "name": "stdout",
          "text": [
            "Original array:\n",
            "[1 2 3 4 5 1 2 1 1 1]\n",
            "Most frequent value in the above array:\n",
            "1\n"
          ]
        }
      ],
      "source": [
        "import numpy as np\n",
        "x = np.array([1,2,3,4,5,1,2,1,1,1])\n",
        "print(\"Original array:\")\n",
        "print(x)\n",
        "print(\"Most frequent value in the above array:\")\n",
        "print(np.bincount(x).argmax())"
      ]
    },
    {
      "cell_type": "markdown",
      "metadata": {
        "id": "lrT-orpovCrD"
      },
      "source": [
        "#### 84. Extract all the contiguous 3x3 blocks from a random 10x10 matrix (★★★) \n",
        "(**hint**: stride\\_tricks.as\\_strided)"
      ]
    },
    {
      "cell_type": "code",
      "execution_count": null,
      "metadata": {
        "id": "ah2S88O8vCrE",
        "colab": {
          "base_uri": "https://localhost:8080/"
        },
        "outputId": "92283b7c-8a5c-4259-8bd7-32151c7b8380"
      },
      "outputs": [
        {
          "output_type": "stream",
          "name": "stdout",
          "text": [
            "Original arrays:\n",
            "[[2 4 4 4 3 0 3 3 3 2]\n",
            " [1 2 0 0 3 2 2 3 0 3]\n",
            " [4 1 2 4 4 4 2 1 0 0]\n",
            " [0 3 1 1 4 2 4 4 2 0]\n",
            " [2 1 2 1 0 0 4 2 0 0]\n",
            " [3 1 2 3 2 1 4 4 2 4]\n",
            " [2 2 2 2 4 3 3 1 1 1]\n",
            " [2 1 2 4 0 1 0 0 4 3]\n",
            " [0 4 4 2 2 2 1 0 3 1]\n",
            " [1 2 2 3 3 1 0 4 2 1]]\n",
            "\n",
            "Contiguous 3x3 blocks:\n",
            "[[[[2 4 4]\n",
            "   [1 2 0]\n",
            "   [4 1 2]]\n",
            "\n",
            "  [[4 4 4]\n",
            "   [2 0 0]\n",
            "   [1 2 4]]\n",
            "\n",
            "  [[4 4 3]\n",
            "   [0 0 3]\n",
            "   [2 4 4]]\n",
            "\n",
            "  [[4 3 0]\n",
            "   [0 3 2]\n",
            "   [4 4 4]]\n",
            "\n",
            "  [[3 0 3]\n",
            "   [3 2 2]\n",
            "   [4 4 2]]\n",
            "\n",
            "  [[0 3 3]\n",
            "   [2 2 3]\n",
            "   [4 2 1]]\n",
            "\n",
            "  [[3 3 3]\n",
            "   [2 3 0]\n",
            "   [2 1 0]]\n",
            "\n",
            "  [[3 3 2]\n",
            "   [3 0 3]\n",
            "   [1 0 0]]]\n",
            "\n",
            "\n",
            " [[[1 2 0]\n",
            "   [4 1 2]\n",
            "   [0 3 1]]\n",
            "\n",
            "  [[2 0 0]\n",
            "   [1 2 4]\n",
            "   [3 1 1]]\n",
            "\n",
            "  [[0 0 3]\n",
            "   [2 4 4]\n",
            "   [1 1 4]]\n",
            "\n",
            "  [[0 3 2]\n",
            "   [4 4 4]\n",
            "   [1 4 2]]\n",
            "\n",
            "  [[3 2 2]\n",
            "   [4 4 2]\n",
            "   [4 2 4]]\n",
            "\n",
            "  [[2 2 3]\n",
            "   [4 2 1]\n",
            "   [2 4 4]]\n",
            "\n",
            "  [[2 3 0]\n",
            "   [2 1 0]\n",
            "   [4 4 2]]\n",
            "\n",
            "  [[3 0 3]\n",
            "   [1 0 0]\n",
            "   [4 2 0]]]\n",
            "\n",
            "\n",
            " [[[4 1 2]\n",
            "   [0 3 1]\n",
            "   [2 1 2]]\n",
            "\n",
            "  [[1 2 4]\n",
            "   [3 1 1]\n",
            "   [1 2 1]]\n",
            "\n",
            "  [[2 4 4]\n",
            "   [1 1 4]\n",
            "   [2 1 0]]\n",
            "\n",
            "  [[4 4 4]\n",
            "   [1 4 2]\n",
            "   [1 0 0]]\n",
            "\n",
            "  [[4 4 2]\n",
            "   [4 2 4]\n",
            "   [0 0 4]]\n",
            "\n",
            "  [[4 2 1]\n",
            "   [2 4 4]\n",
            "   [0 4 2]]\n",
            "\n",
            "  [[2 1 0]\n",
            "   [4 4 2]\n",
            "   [4 2 0]]\n",
            "\n",
            "  [[1 0 0]\n",
            "   [4 2 0]\n",
            "   [2 0 0]]]\n",
            "\n",
            "\n",
            " [[[0 3 1]\n",
            "   [2 1 2]\n",
            "   [3 1 2]]\n",
            "\n",
            "  [[3 1 1]\n",
            "   [1 2 1]\n",
            "   [1 2 3]]\n",
            "\n",
            "  [[1 1 4]\n",
            "   [2 1 0]\n",
            "   [2 3 2]]\n",
            "\n",
            "  [[1 4 2]\n",
            "   [1 0 0]\n",
            "   [3 2 1]]\n",
            "\n",
            "  [[4 2 4]\n",
            "   [0 0 4]\n",
            "   [2 1 4]]\n",
            "\n",
            "  [[2 4 4]\n",
            "   [0 4 2]\n",
            "   [1 4 4]]\n",
            "\n",
            "  [[4 4 2]\n",
            "   [4 2 0]\n",
            "   [4 4 2]]\n",
            "\n",
            "  [[4 2 0]\n",
            "   [2 0 0]\n",
            "   [4 2 4]]]\n",
            "\n",
            "\n",
            " [[[2 1 2]\n",
            "   [3 1 2]\n",
            "   [2 2 2]]\n",
            "\n",
            "  [[1 2 1]\n",
            "   [1 2 3]\n",
            "   [2 2 2]]\n",
            "\n",
            "  [[2 1 0]\n",
            "   [2 3 2]\n",
            "   [2 2 4]]\n",
            "\n",
            "  [[1 0 0]\n",
            "   [3 2 1]\n",
            "   [2 4 3]]\n",
            "\n",
            "  [[0 0 4]\n",
            "   [2 1 4]\n",
            "   [4 3 3]]\n",
            "\n",
            "  [[0 4 2]\n",
            "   [1 4 4]\n",
            "   [3 3 1]]\n",
            "\n",
            "  [[4 2 0]\n",
            "   [4 4 2]\n",
            "   [3 1 1]]\n",
            "\n",
            "  [[2 0 0]\n",
            "   [4 2 4]\n",
            "   [1 1 1]]]\n",
            "\n",
            "\n",
            " [[[3 1 2]\n",
            "   [2 2 2]\n",
            "   [2 1 2]]\n",
            "\n",
            "  [[1 2 3]\n",
            "   [2 2 2]\n",
            "   [1 2 4]]\n",
            "\n",
            "  [[2 3 2]\n",
            "   [2 2 4]\n",
            "   [2 4 0]]\n",
            "\n",
            "  [[3 2 1]\n",
            "   [2 4 3]\n",
            "   [4 0 1]]\n",
            "\n",
            "  [[2 1 4]\n",
            "   [4 3 3]\n",
            "   [0 1 0]]\n",
            "\n",
            "  [[1 4 4]\n",
            "   [3 3 1]\n",
            "   [1 0 0]]\n",
            "\n",
            "  [[4 4 2]\n",
            "   [3 1 1]\n",
            "   [0 0 4]]\n",
            "\n",
            "  [[4 2 4]\n",
            "   [1 1 1]\n",
            "   [0 4 3]]]\n",
            "\n",
            "\n",
            " [[[2 2 2]\n",
            "   [2 1 2]\n",
            "   [0 4 4]]\n",
            "\n",
            "  [[2 2 2]\n",
            "   [1 2 4]\n",
            "   [4 4 2]]\n",
            "\n",
            "  [[2 2 4]\n",
            "   [2 4 0]\n",
            "   [4 2 2]]\n",
            "\n",
            "  [[2 4 3]\n",
            "   [4 0 1]\n",
            "   [2 2 2]]\n",
            "\n",
            "  [[4 3 3]\n",
            "   [0 1 0]\n",
            "   [2 2 1]]\n",
            "\n",
            "  [[3 3 1]\n",
            "   [1 0 0]\n",
            "   [2 1 0]]\n",
            "\n",
            "  [[3 1 1]\n",
            "   [0 0 4]\n",
            "   [1 0 3]]\n",
            "\n",
            "  [[1 1 1]\n",
            "   [0 4 3]\n",
            "   [0 3 1]]]\n",
            "\n",
            "\n",
            " [[[2 1 2]\n",
            "   [0 4 4]\n",
            "   [1 2 2]]\n",
            "\n",
            "  [[1 2 4]\n",
            "   [4 4 2]\n",
            "   [2 2 3]]\n",
            "\n",
            "  [[2 4 0]\n",
            "   [4 2 2]\n",
            "   [2 3 3]]\n",
            "\n",
            "  [[4 0 1]\n",
            "   [2 2 2]\n",
            "   [3 3 1]]\n",
            "\n",
            "  [[0 1 0]\n",
            "   [2 2 1]\n",
            "   [3 1 0]]\n",
            "\n",
            "  [[1 0 0]\n",
            "   [2 1 0]\n",
            "   [1 0 4]]\n",
            "\n",
            "  [[0 0 4]\n",
            "   [1 0 3]\n",
            "   [0 4 2]]\n",
            "\n",
            "  [[0 4 3]\n",
            "   [0 3 1]\n",
            "   [4 2 1]]]]\n"
          ]
        }
      ],
      "source": [
        "import numpy as np\n",
        "arra1 = np.random.randint(0,5,(10,10))\n",
        "print(\"Original arrays:\")\n",
        "print(arra1)\n",
        "n = 3\n",
        "i = 1 + (arra1.shape[0]-3)\n",
        "j = 1 + (arra1.shape[1]-3)\n",
        "result = np.lib.stride_tricks.as_strided(arra1, shape=(i, j, n, n), strides = arra1.strides + arra1.strides)\n",
        "print(\"\\nContiguous 3x3 blocks:\")\n",
        "print(result)"
      ]
    },
    {
      "cell_type": "markdown",
      "metadata": {
        "id": "AAVjOEMzvCrE"
      },
      "source": [
        "#### 85. Create a 2D array subclass such that Z\\[i,j\\] == Z\\[j,i\\] (★★★) \n",
        "(**hint**: class method)"
      ]
    },
    {
      "cell_type": "code",
      "execution_count": null,
      "metadata": {
        "id": "hCC2G-8PvCrE",
        "colab": {
          "base_uri": "https://localhost:8080/"
        },
        "outputId": "ebe6aed8-5f8a-4e21-d11a-d39a4d17dbff"
      },
      "outputs": [
        {
          "output_type": "stream",
          "name": "stdout",
          "text": [
            "[[ 0  6  9 13 13]\n",
            " [ 6  9 11  0  8]\n",
            " [ 9 11  0 42 10]\n",
            " [13  0 42  2 11]\n",
            " [13  8 10 11  2]]\n"
          ]
        }
      ],
      "source": [
        "class Symetric(np.ndarray):\n",
        "    def __setitem__(self, index, value):\n",
        "        i,j = index\n",
        "        super(Symetric, self).__setitem__((i,j), value)\n",
        "        super(Symetric, self).__setitem__((j,i), value)\n",
        "\n",
        "def symetric(Z):\n",
        "    return np.asarray(Z + Z.T - np.diag(Z.diagonal())).view(Symetric)\n",
        "\n",
        "S = symetric(np.random.randint(0,10,(5,5)))\n",
        "S[2,3] = 42\n",
        "print(S)"
      ]
    },
    {
      "cell_type": "markdown",
      "metadata": {
        "id": "PthAjQdEvCrE"
      },
      "source": [
        "#### 86. Consider a set of p matrices wich shape (n,n) and a set of p vectors with shape (n,1). How to compute the sum of of the p matrix products at once? (result has shape (n,1)) (★★★) \n",
        "(**hint**: np.tensordot)"
      ]
    },
    {
      "cell_type": "code",
      "execution_count": null,
      "metadata": {
        "id": "IacZkXALvCrE",
        "colab": {
          "base_uri": "https://localhost:8080/"
        },
        "outputId": "dc0623c0-430c-444c-c85e-ed6ec71524a5"
      },
      "outputs": [
        {
          "output_type": "stream",
          "name": "stdout",
          "text": [
            "[[200.]\n",
            " [200.]\n",
            " [200.]\n",
            " [200.]\n",
            " [200.]\n",
            " [200.]\n",
            " [200.]\n",
            " [200.]\n",
            " [200.]\n",
            " [200.]\n",
            " [200.]\n",
            " [200.]\n",
            " [200.]\n",
            " [200.]\n",
            " [200.]\n",
            " [200.]\n",
            " [200.]\n",
            " [200.]\n",
            " [200.]\n",
            " [200.]]\n"
          ]
        }
      ],
      "source": [
        "p, n = 10, 20\n",
        "M = np.ones((p,n,n))\n",
        "V = np.ones((p,n,1))\n",
        "S = np.tensordot(M, V, axes=[[0, 2], [0, 1]])\n",
        "print(S)"
      ]
    },
    {
      "cell_type": "markdown",
      "metadata": {
        "id": "39k-d--DvCrE"
      },
      "source": [
        "#### 87. Consider a 16x16 array, how to get the block-sum (block size is 4x4)? (★★★) \n",
        "(**hint**: np.add.reduceat)"
      ]
    },
    {
      "cell_type": "code",
      "execution_count": null,
      "metadata": {
        "id": "pIQxi2eSvCrE",
        "colab": {
          "base_uri": "https://localhost:8080/"
        },
        "outputId": "6c37d8d9-4aa5-42df-b6d7-cfdb7afb917d"
      },
      "outputs": [
        {
          "output_type": "stream",
          "name": "stdout",
          "text": [
            "Original arrays:\n",
            "[[1. 1. 1. 1. 1. 1. 1. 1. 1. 1. 1. 1. 1. 1. 1. 1.]\n",
            " [1. 1. 1. 1. 1. 1. 1. 1. 1. 1. 1. 1. 1. 1. 1. 1.]\n",
            " [1. 1. 1. 1. 1. 1. 1. 1. 1. 1. 1. 1. 1. 1. 1. 1.]\n",
            " [1. 1. 1. 1. 1. 1. 1. 1. 1. 1. 1. 1. 1. 1. 1. 1.]\n",
            " [1. 1. 1. 1. 1. 1. 1. 1. 1. 1. 1. 1. 1. 1. 1. 1.]\n",
            " [1. 1. 1. 1. 1. 1. 1. 1. 1. 1. 1. 1. 1. 1. 1. 1.]\n",
            " [1. 1. 1. 1. 1. 1. 1. 1. 1. 1. 1. 1. 1. 1. 1. 1.]\n",
            " [1. 1. 1. 1. 1. 1. 1. 1. 1. 1. 1. 1. 1. 1. 1. 1.]\n",
            " [1. 1. 1. 1. 1. 1. 1. 1. 1. 1. 1. 1. 1. 1. 1. 1.]\n",
            " [1. 1. 1. 1. 1. 1. 1. 1. 1. 1. 1. 1. 1. 1. 1. 1.]\n",
            " [1. 1. 1. 1. 1. 1. 1. 1. 1. 1. 1. 1. 1. 1. 1. 1.]\n",
            " [1. 1. 1. 1. 1. 1. 1. 1. 1. 1. 1. 1. 1. 1. 1. 1.]\n",
            " [1. 1. 1. 1. 1. 1. 1. 1. 1. 1. 1. 1. 1. 1. 1. 1.]\n",
            " [1. 1. 1. 1. 1. 1. 1. 1. 1. 1. 1. 1. 1. 1. 1. 1.]\n",
            " [1. 1. 1. 1. 1. 1. 1. 1. 1. 1. 1. 1. 1. 1. 1. 1.]\n",
            " [1. 1. 1. 1. 1. 1. 1. 1. 1. 1. 1. 1. 1. 1. 1. 1.]]\n",
            "\n",
            "Block-sum (4x4) of the said array:\n",
            "[[16. 16. 16. 16.]\n",
            " [16. 16. 16. 16.]\n",
            " [16. 16. 16. 16.]\n",
            " [16. 16. 16. 16.]]\n"
          ]
        }
      ],
      "source": [
        "import numpy as np\n",
        "arra1 = np.ones((16,16))\n",
        "k = 4\n",
        "print(\"Original arrays:\")\n",
        "print(arra1)\n",
        "result = np.add.reduceat(np.add.reduceat(arra1, np.arange(0, arra1.shape[0], k), axis=0),\n",
        "                                      np.arange(0, arra1.shape[1], k), axis=1)\n",
        "print(\"\\nBlock-sum (4x4) of the said array:\")\n",
        "print(result)"
      ]
    },
    {
      "cell_type": "markdown",
      "metadata": {
        "id": "6SfL8r5LvCrE"
      },
      "source": [
        "#### 88. How to implement the Game of Life using numpy arrays? (★★★)"
      ]
    },
    {
      "cell_type": "code",
      "execution_count": null,
      "metadata": {
        "id": "uG-iE2-5vCrE",
        "colab": {
          "base_uri": "https://localhost:8080/"
        },
        "outputId": "cf39a445-a28e-4ba7-99fc-6ed6aae29181"
      },
      "outputs": [
        {
          "output_type": "stream",
          "name": "stdout",
          "text": [
            "[[0 0 0 ... 0 0 0]\n",
            " [0 0 0 ... 0 0 0]\n",
            " [0 0 0 ... 0 0 0]\n",
            " ...\n",
            " [0 0 0 ... 0 0 0]\n",
            " [0 0 0 ... 0 0 0]\n",
            " [0 0 0 ... 0 0 0]]\n",
            "[[0 0 0 ... 0 0 0]\n",
            " [0 0 0 ... 0 0 0]\n",
            " [0 0 0 ... 0 0 0]\n",
            " ...\n",
            " [0 0 0 ... 0 0 0]\n",
            " [0 0 0 ... 0 0 0]\n",
            " [0 0 0 ... 0 0 0]]\n"
          ]
        }
      ],
      "source": [
        "def iterate(Z):\n",
        "    N = (Z[0:-2,0:-2] + Z[0:-2,1:-1] + Z[0:-2,2:] +\n",
        "         Z[1:-1,0:-2]                + Z[1:-1,2:] +\n",
        "         Z[2:  ,0:-2] + Z[2:  ,1:-1] + Z[2:  ,2:])\n",
        "    birth = (N==3) & (Z[1:-1,1:-1]==0)\n",
        "    survive = ((N==2) | (N==3)) & (Z[1:-1,1:-1]==1)\n",
        "    Z[...] = 0\n",
        "    Z[1:-1,1:-1][birth | survive] = 1\n",
        "    return Z\n",
        "\n",
        "Z = np.random.randint(0,2,(50,50))\n",
        "for i in range(100): Z = iterate(Z)\n",
        "print(Z)"
      ]
    },
    {
      "cell_type": "markdown",
      "metadata": {
        "id": "_mRh5aIXvCrE"
      },
      "source": [
        "#### 89. How to get the n largest values of an array (★★★) \n",
        "(**hint**: np.argsort | np.argpartition)"
      ]
    },
    {
      "cell_type": "code",
      "execution_count": null,
      "metadata": {
        "id": "WjA2T7UVvCrF",
        "colab": {
          "base_uri": "https://localhost:8080/"
        },
        "outputId": "6aa9904c-e926-48e4-d5e4-8a4e04b1c7f1"
      },
      "outputs": [
        {
          "output_type": "stream",
          "name": "stdout",
          "text": [
            "[9995 9996 9997 9998 9999]\n",
            "[9995 9998 9997 9999 9996]\n"
          ]
        }
      ],
      "source": [
        "Z = np.arange(10000)\n",
        "np.random.shuffle(Z)\n",
        "n = 5\n",
        "print (Z[np.argsort(Z)[-n:]])\n",
        "print (Z[np.argpartition(-Z,n)[:n]])"
      ]
    },
    {
      "cell_type": "markdown",
      "metadata": {
        "id": "5uQnhoDSvCrF"
      },
      "source": [
        "#### 90. Given an arbitrary number of vectors, build the cartesian product (every combinations of every item) (★★★) \n",
        "(**hint**: np.indices)"
      ]
    },
    {
      "cell_type": "code",
      "execution_count": null,
      "metadata": {
        "scrolled": true,
        "id": "SChOe5RDvCrF",
        "colab": {
          "base_uri": "https://localhost:8080/"
        },
        "outputId": "7106ddc1-4b14-42cf-f0ad-c134b720d102"
      },
      "outputs": [
        {
          "output_type": "stream",
          "name": "stdout",
          "text": [
            "[[1 4 6]\n",
            " [1 4 7]\n",
            " [1 5 6]\n",
            " [1 5 7]\n",
            " [2 4 6]\n",
            " [2 4 7]\n",
            " [2 5 6]\n",
            " [2 5 7]\n",
            " [3 4 6]\n",
            " [3 4 7]\n",
            " [3 5 6]\n",
            " [3 5 7]]\n"
          ]
        }
      ],
      "source": [
        "def cartesian(arrays):\n",
        "    arrays = [np.asarray(a) for a in arrays]\n",
        "    shape = (len(x) for x in arrays)\n",
        "\n",
        "    ix = np.indices(shape, dtype=int)\n",
        "    ix = ix.reshape(len(arrays), -1).T\n",
        "\n",
        "    for n, arr in enumerate(arrays):\n",
        "        ix[:, n] = arrays[n][ix[:, n]]\n",
        "\n",
        "    return ix\n",
        "\n",
        "print (cartesian(([1, 2, 3], [4, 5], [6, 7])))"
      ]
    },
    {
      "cell_type": "markdown",
      "metadata": {
        "id": "_SHd3mRqvCrF"
      },
      "source": [
        "#### 91. How to create a record array from a regular array? (★★★) \n",
        "(**hint**: np.core.records.fromarrays)"
      ]
    },
    {
      "cell_type": "code",
      "execution_count": null,
      "metadata": {
        "id": "y4pklAcxvCrF",
        "colab": {
          "base_uri": "https://localhost:8080/"
        },
        "outputId": "0ddd100c-3748-405b-e6f6-70ed9a72361c"
      },
      "outputs": [
        {
          "output_type": "stream",
          "name": "stdout",
          "text": [
            "[(b'Hello', 2.5, 3) (b'World', 3.6, 2)]\n"
          ]
        }
      ],
      "source": [
        "Z = np.array([(\"Hello\", 2.5, 3),\n",
        "              (\"World\", 3.6, 2)])\n",
        "R = np.core.records.fromarrays(Z.T,\n",
        "                               names='col1, col2, col3',\n",
        "                               formats = 'S8, f8, i8')\n",
        "print(R)"
      ]
    },
    {
      "cell_type": "markdown",
      "metadata": {
        "id": "O3_0_T3SvCrF"
      },
      "source": [
        "#### 92. Consider a large vector Z, compute Z to the power of 3 using 3 different methods (★★★) \n",
        "(**hint**: np.power, \\*, np.einsum)"
      ]
    },
    {
      "cell_type": "code",
      "execution_count": null,
      "metadata": {
        "id": "uee1KfMkvCrG",
        "colab": {
          "base_uri": "https://localhost:8080/"
        },
        "outputId": "a895f0dd-fc4d-4284-c515-ae1b89fef4f1"
      },
      "outputs": [
        {
          "output_type": "stream",
          "name": "stdout",
          "text": [
            "3.76 s ± 38.9 ms per loop (mean ± std. dev. of 7 runs, 1 loop each)\n",
            "144 ms ± 680 µs per loop (mean ± std. dev. of 7 runs, 10 loops each)\n",
            "125 ms ± 729 µs per loop (mean ± std. dev. of 7 runs, 10 loops each)\n"
          ]
        }
      ],
      "source": [
        "x = np.random.rand(int(5e7))\n",
        "%timeit np.power(x,3)\n",
        "%timeit x*x*x\n",
        "%timeit np.einsum('i,i,i->i',x,x,x)"
      ]
    },
    {
      "cell_type": "markdown",
      "metadata": {
        "id": "O89aDklGvCrG"
      },
      "source": [
        "#### 93. Consider two arrays A and B of shape (8,3) and (2,2). How to find rows of A that contain elements of each row of B regardless of the order of the elements in B? (★★★) \n",
        "(**hint**: np.where)"
      ]
    },
    {
      "cell_type": "code",
      "execution_count": null,
      "metadata": {
        "id": "OMr9ok1ZvCrG",
        "colab": {
          "base_uri": "https://localhost:8080/"
        },
        "outputId": "c524261d-18d2-4557-f0f8-73339e435617"
      },
      "outputs": [
        {
          "output_type": "stream",
          "name": "stdout",
          "text": [
            "[2]\n"
          ]
        }
      ],
      "source": [
        "A = np.random.randint(0,5,(8,3))\n",
        "B = np.random.randint(0,5,(2,2))\n",
        "C = (A[..., np.newaxis, np.newaxis] == B)\n",
        "rows = np.where(C.any((3,1)).all(1))[0]\n",
        "print(rows)"
      ]
    },
    {
      "cell_type": "markdown",
      "metadata": {
        "id": "DkhMj6Z9vCrG"
      },
      "source": [
        "#### 94. Considering a 10x3 matrix, extract rows with unequal values (e.g. \\[2,2,3\\]) (★★★)"
      ]
    },
    {
      "cell_type": "code",
      "execution_count": null,
      "metadata": {
        "id": "NjMToIrlvCrG",
        "colab": {
          "base_uri": "https://localhost:8080/"
        },
        "outputId": "a8da0cd2-8d56-4e47-a737-f99044ef6bfb"
      },
      "outputs": [
        {
          "output_type": "stream",
          "name": "stdout",
          "text": [
            "[[4 2 3]\n",
            " [0 4 0]\n",
            " [0 4 2]\n",
            " [4 0 0]\n",
            " [4 4 4]\n",
            " [0 0 4]\n",
            " [4 4 4]\n",
            " [0 0 0]\n",
            " [3 4 1]\n",
            " [0 2 1]]\n",
            "[[4 2 3]\n",
            " [0 4 0]\n",
            " [0 4 2]\n",
            " [4 0 0]\n",
            " [0 0 4]\n",
            " [3 4 1]\n",
            " [0 2 1]]\n",
            "[[4 2 3]\n",
            " [0 4 0]\n",
            " [0 4 2]\n",
            " [4 0 0]\n",
            " [0 0 4]\n",
            " [3 4 1]\n",
            " [0 2 1]]\n"
          ]
        }
      ],
      "source": [
        "Z = np.random.randint(0,5,(10,3))\n",
        "print(Z)\n",
        "E = np.all(Z[:,1:] == Z[:,:-1], axis=1)\n",
        "U = Z[~E]\n",
        "print(U)\n",
        "U = Z[Z.max(axis=1) != Z.min(axis=1),:]\n",
        "print(U)"
      ]
    },
    {
      "cell_type": "markdown",
      "metadata": {
        "id": "g9541JYHvCrG"
      },
      "source": [
        "#### 95. Convert a vector of ints into a matrix binary representation (★★★) \n",
        "(**hint**: np.unpackbits)"
      ]
    },
    {
      "cell_type": "code",
      "execution_count": null,
      "metadata": {
        "id": "dA8RzcvkvCrG",
        "colab": {
          "base_uri": "https://localhost:8080/"
        },
        "outputId": "a6f44f93-f4a3-4c61-e34a-3ed67fa8524b"
      },
      "outputs": [
        {
          "output_type": "stream",
          "name": "stdout",
          "text": [
            "[[0 0 0 0 0 0 0 0]\n",
            " [0 0 0 0 0 0 0 1]\n",
            " [0 0 0 0 0 0 1 0]\n",
            " [0 0 0 0 0 0 1 1]\n",
            " [0 0 0 0 1 1 1 1]\n",
            " [0 0 0 1 0 0 0 0]\n",
            " [0 0 1 0 0 0 0 0]\n",
            " [0 1 0 0 0 0 0 0]\n",
            " [1 0 0 0 0 0 0 0]]\n"
          ]
        }
      ],
      "source": [
        "I = np.array([0, 1, 2, 3, 15, 16, 32, 64, 128], dtype=np.uint8)\n",
        "print(np.unpackbits(I[:, np.newaxis], axis=1))"
      ]
    },
    {
      "cell_type": "markdown",
      "metadata": {
        "id": "9zvILTYCvCrG"
      },
      "source": [
        "#### 96. Given a two dimensional array, how to extract unique rows? (★★★) \n",
        "(**hint**: np.ascontiguousarray)"
      ]
    },
    {
      "cell_type": "code",
      "execution_count": null,
      "metadata": {
        "id": "5hPCYfJYvCrG",
        "colab": {
          "base_uri": "https://localhost:8080/"
        },
        "outputId": "5f9bc918-66ea-41d4-b711-033757124588"
      },
      "outputs": [
        {
          "output_type": "stream",
          "name": "stdout",
          "text": [
            "[[0 0 0]\n",
            " [0 0 1]\n",
            " [0 1 0]\n",
            " [1 0 1]\n",
            " [1 1 0]]\n"
          ]
        }
      ],
      "source": [
        "Z = np.random.randint(0,2,(6,3))\n",
        "T = np.ascontiguousarray(Z).view(np.dtype((np.void, Z.dtype.itemsize * Z.shape[1])))\n",
        "_, idx = np.unique(T, return_index=True)\n",
        "uZ = Z[idx]\n",
        "print(uZ)"
      ]
    },
    {
      "cell_type": "markdown",
      "metadata": {
        "id": "cXEqbKblvCrH"
      },
      "source": [
        "#### 97. Considering 2 vectors A & B, write the einsum equivalent of inner, outer, sum, and mul function (★★★) \n",
        "(**hint**: np.einsum)"
      ]
    },
    {
      "cell_type": "code",
      "execution_count": null,
      "metadata": {
        "id": "o2UGYXpRvCrH",
        "colab": {
          "base_uri": "https://localhost:8080/"
        },
        "outputId": "29d12608-35f1-4789-e60f-d22512ac6151"
      },
      "outputs": [
        {
          "output_type": "execute_result",
          "data": {
            "text/plain": [
              "array([[0.14946847, 0.25443194, 0.08070033, 0.23722059, 0.25882435,\n",
              "        0.25544384, 0.21042196, 0.23065722, 0.12229106, 0.11692186],\n",
              "       [0.54148375, 0.92173794, 0.29235541, 0.85938591, 0.93765047,\n",
              "        0.92540381, 0.76230171, 0.83560858, 0.44302736, 0.42357621],\n",
              "       [0.12357942, 0.21036243, 0.06672243, 0.19613222, 0.21399405,\n",
              "        0.21119907, 0.17397531, 0.19070567, 0.10110934, 0.09667012],\n",
              "       [0.26923626, 0.45830605, 0.1453648 , 0.4273034 , 0.46621807,\n",
              "        0.46012879, 0.37903125, 0.41548085, 0.22028183, 0.21061034],\n",
              "       [0.40222259, 0.68468134, 0.21716617, 0.63836528, 0.69650142,\n",
              "        0.6874044 , 0.56624962, 0.62070311, 0.32908764, 0.31463902],\n",
              "       [0.42450142, 0.72260538, 0.22919486, 0.6737239 , 0.73508016,\n",
              "        0.72547927, 0.5976138 , 0.65508343, 0.34731558, 0.33206667],\n",
              "       [0.08765697, 0.14921363, 0.04732735, 0.1391199 , 0.1517896 ,\n",
              "        0.14980707, 0.12340363, 0.13527076, 0.07171856, 0.06856975],\n",
              "       [0.16362256, 0.27852568, 0.08834234, 0.25968448, 0.28333404,\n",
              "        0.27963341, 0.23034812, 0.25249958, 0.13387156, 0.12799392],\n",
              "       [0.27260557, 0.46404144, 0.14718395, 0.43265082, 0.47205248,\n",
              "        0.46588699, 0.38377457, 0.42068032, 0.22303851, 0.21324598],\n",
              "       [0.17707806, 0.30143023, 0.09560717, 0.28103963, 0.306634  ,\n",
              "        0.30262905, 0.24929079, 0.27326388, 0.14488048, 0.13851949]])"
            ]
          },
          "metadata": {},
          "execution_count": 20
        }
      ],
      "source": [
        "A = np.random.uniform(0,1,10)\n",
        "B = np.random.uniform(0,1,10)\n",
        "np.einsum('i->', A)       \n",
        "np.einsum('i,i->i', A, B) \n",
        "np.einsum('i,i', A, B)    \n",
        "np.einsum('i,j->ij', A, B)"
      ]
    },
    {
      "cell_type": "markdown",
      "metadata": {
        "id": "IlR0nqhzvCrH"
      },
      "source": [
        "#### 98. Considering a path described by two vectors (X,Y), how to sample it using equidistant samples (★★★)? \n",
        "(**hint**: np.cumsum, np.interp)"
      ]
    },
    {
      "cell_type": "code",
      "execution_count": null,
      "metadata": {
        "collapsed": true,
        "id": "FrigvdQGvCrH"
      },
      "outputs": [],
      "source": [
        "phi = np.arange(0, 10*np.pi, 0.1)\n",
        "a = 1\n",
        "x = a*phi*np.cos(phi)\n",
        "y = a*phi*np.sin(phi)\n",
        "dr = (np.diff(x)**2 + np.diff(y)**2)\n",
        "r = np.zeros_like(x)\n",
        "r[1:] = np.cumsum(dr)               \n",
        "r_int = np.linspace(0, r.max(), 200) \n",
        "x_int = np.interp(r_int, r, x)       \n",
        "y_int = np.interp(r_int, r, y)"
      ]
    },
    {
      "cell_type": "markdown",
      "metadata": {
        "id": "HZsjMGXEvCrH"
      },
      "source": [
        "#### 99. Given an integer n and a 2D array X, select from X the rows which can be interpreted as draws from a multinomial distribution with n degrees, i.e., the rows which only contain integers and which sum to n. (★★★) \n",
        "(**hint**: np.logical\\_and.reduce, np.mod)"
      ]
    },
    {
      "cell_type": "code",
      "execution_count": null,
      "metadata": {
        "id": "Mz8Wd0HSvCrH",
        "colab": {
          "base_uri": "https://localhost:8080/"
        },
        "outputId": "55923501-02bb-45d3-f1f7-aee2e01f8cc9"
      },
      "outputs": [
        {
          "output_type": "stream",
          "name": "stdout",
          "text": [
            "[[2. 0. 1. 1.]]\n"
          ]
        }
      ],
      "source": [
        "X = np.asarray([[1.0, 0.0, 3.0, 8.0],\n",
        "                [2.0, 0.0, 1.0, 1.0],\n",
        "                [1.5, 2.5, 1.0, 0.0]])\n",
        "n = 4\n",
        "M = np.logical_and.reduce(np.mod(X, 1) == 0, axis=-1)\n",
        "M &= (X.sum(axis=-1) == n)\n",
        "print(X[M])"
      ]
    },
    {
      "cell_type": "markdown",
      "metadata": {
        "id": "3ow9nukQvCrH"
      },
      "source": [
        "#### 100. Compute bootstrapped 95% confidence intervals for the mean of a 1D array X (i.e., resample the elements of an array with replacement N times, compute the mean of each sample, and then compute percentiles over the means). (★★★) \n",
        "(**hint**: np.percentile)"
      ]
    },
    {
      "cell_type": "code",
      "execution_count": null,
      "metadata": {
        "id": "9XEklTGEvCrH",
        "colab": {
          "base_uri": "https://localhost:8080/"
        },
        "outputId": "511a8602-cb36-4d34-ccd5-2f1d55332994"
      },
      "outputs": [
        {
          "output_type": "stream",
          "name": "stdout",
          "text": [
            "[-0.23574735  0.14199616]\n"
          ]
        }
      ],
      "source": [
        "X = np.random.randn(100)\n",
        "N = 1000\n",
        "idx = np.random.randint(0, X.size, (N, X.size))\n",
        "means = X[idx].mean(axis=1)\n",
        "confint = np.percentile(means, [2.5, 97.5])\n",
        "print(confint)"
      ]
    }
  ],
  "metadata": {
    "kernelspec": {
      "display_name": "Python 3",
      "language": "python",
      "name": "python3"
    },
    "language_info": {
      "codemirror_mode": {
        "name": "ipython",
        "version": 3
      },
      "file_extension": ".py",
      "mimetype": "text/x-python",
      "name": "python",
      "nbconvert_exporter": "python",
      "pygments_lexer": "ipython3",
      "version": "3.8.3"
    },
    "colab": {
      "provenance": [],
      "collapsed_sections": [
        "KVb3BFBdvCqv",
        "pldHot6XvCqv",
        "crPP4407vCqw",
        "Z67lDCRJvCqw",
        "jPV2zH1TvCqw",
        "tKhERWJdvCqx",
        "aPMOAAFovCqx",
        "DeOgxs-LvCqx",
        "Kmf6MMqavCqy",
        "tyt3Jov-vCqy",
        "7mXJ221HvCqy",
        "xjUh6FVYvCqy",
        "FINwDhRAvCqz",
        "yo_vuHwvvCqz",
        "_w00joyhvCq0",
        "ZFH3LdOuvCq0",
        "mzIKri2AvCq1",
        "cCG6bC9kvCq1",
        "_UAL8PukvCq1",
        "dNR8CEUdvCq1",
        "jH7Vwxm0vCq2",
        "uYGqYfS5vCq2",
        "1vt0pbsLvCq2",
        "yjmR8DHxvCq2",
        "9-GqN5k3vCq3",
        "yiCaU2HkvCq3",
        "WiISn1ufvCq3",
        "nWRTVc4nvCq3",
        "hT8iN_JIvCq4",
        "MoUrSl3VvCq4",
        "Ds0Iw8WovCq4",
        "hxI2s3vKvCq5",
        "4ltmYyURvCq5",
        "t4BTHXUdvCq5",
        "MhIwp0hvvCq6",
        "sd2RSvW5vCq6",
        "TChrtmLfvCq6",
        "UeEWiBwEvCq6",
        "cB0iFNRXvCq7",
        "8R8dZ2oevCq7",
        "VzhTvS0CvCq7",
        "PmuS9MaOvCq7",
        "f_K-vMrkvCq8",
        "DsPHWxzfvCq8",
        "ain7QGS-vCq8",
        "DbZzJfjkvCq8",
        "7q7SeFwCvCq9",
        "sAkObSzYvCq9",
        "prgMlH5LvCq9",
        "NI56VDoRvCq-",
        "gkXv2_9KvCq-",
        "sZvo453ivCq-",
        "SrzfZ_XrvCq_",
        "wo6_xVyOvCrA",
        "lrT-orpovCrD",
        "AAVjOEMzvCrE",
        "PthAjQdEvCrE",
        "39k-d--DvCrE",
        "6SfL8r5LvCrE",
        "_mRh5aIXvCrE",
        "5uQnhoDSvCrF",
        "_SHd3mRqvCrF",
        "O3_0_T3SvCrF",
        "O89aDklGvCrG",
        "DkhMj6Z9vCrG",
        "g9541JYHvCrG",
        "9zvILTYCvCrG",
        "cXEqbKblvCrH",
        "IlR0nqhzvCrH",
        "HZsjMGXEvCrH",
        "3ow9nukQvCrH"
      ],
      "include_colab_link": true
    }
  },
  "nbformat": 4,
  "nbformat_minor": 0
}